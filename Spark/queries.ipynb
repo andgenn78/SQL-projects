{
  "cells": [
    {
      "cell_type": "code",
      "execution_count": null,
      "metadata": {
        "colab": {
          "base_uri": "https://localhost:8080/"
        },
        "id": "5bKCG4xxA7bN",
        "outputId": "3a3d1882-ee85-47ae-eff3-33003906d724"
      },
      "outputs": [
        {
          "output_type": "stream",
          "name": "stdout",
          "text": [
            "Looking in indexes: https://pypi.org/simple, https://us-python.pkg.dev/colab-wheels/public/simple/\n",
            "Collecting pyspark\n",
            "  Downloading pyspark-3.3.0.tar.gz (281.3 MB)\n",
            "\u001b[K     |████████████████████████████████| 281.3 MB 47 kB/s \n",
            "\u001b[?25hCollecting py4j==0.10.9.5\n",
            "  Downloading py4j-0.10.9.5-py2.py3-none-any.whl (199 kB)\n",
            "\u001b[K     |████████████████████████████████| 199 kB 41.9 MB/s \n",
            "\u001b[?25hBuilding wheels for collected packages: pyspark\n",
            "  Building wheel for pyspark (setup.py) ... \u001b[?25l\u001b[?25hdone\n",
            "  Created wheel for pyspark: filename=pyspark-3.3.0-py2.py3-none-any.whl size=281764026 sha256=3c12c4a58562d46aa18707e9e560eb897a96fd93a94e4dfc58055f38be1e7fa6\n",
            "  Stored in directory: /root/.cache/pip/wheels/7a/8e/1b/f73a52650d2e5f337708d9f6a1750d451a7349a867f928b885\n",
            "Successfully built pyspark\n",
            "Installing collected packages: py4j, pyspark\n",
            "Successfully installed py4j-0.10.9.5 pyspark-3.3.0\n"
          ]
        }
      ],
      "source": [
        "#  Загрузка и установка модуля Spark для дальнейшей работы\n",
        "! pip install --upgrade pyspark"
      ]
    },
    {
      "cell_type": "code",
      "execution_count": null,
      "metadata": {
        "id": "ReZ1viJmzrer"
      },
      "outputs": [],
      "source": [
        "# SparkSession — это способ инициализации базовой функциональности PySpark для программного создания PySpark RDD, DataFrame и Dataset. Из библиотеки мы ипортируем SparkSession\n",
        "from pyspark.sql import SparkSession"
      ]
    },
    {
      "cell_type": "markdown",
      "metadata": {
        "id": "ctPH_lluy0Ps"
      },
      "source": [
        "**Использование SQL**"
      ]
    },
    {
      "cell_type": "code",
      "execution_count": null,
      "metadata": {
        "id": "-JpMjkQVz1TV"
      },
      "outputs": [],
      "source": [
        "# Подготовка к работе с определенными параметрами (Spark)\n",
        "spark = SparkSession.builder.getOrCreate()"
      ]
    },
    {
      "cell_type": "code",
      "execution_count": null,
      "metadata": {
        "id": "kf1_XLajz7hX",
        "colab": {
          "base_uri": "https://localhost:8080/"
        },
        "outputId": "ab720862-2762-40ad-c174-09f07a11f0c2"
      },
      "outputs": [
        {
          "output_type": "stream",
          "name": "stdout",
          "text": [
            "Looking in indexes: https://pypi.org/simple, https://us-python.pkg.dev/colab-wheels/public/simple/\n",
            "Requirement already satisfied: gdown in /usr/local/lib/python3.7/dist-packages (4.4.0)\n",
            "Collecting gdown\n",
            "  Downloading gdown-4.5.1.tar.gz (14 kB)\n",
            "  Installing build dependencies ... \u001b[?25l\u001b[?25hdone\n",
            "  Getting requirements to build wheel ... \u001b[?25l\u001b[?25hdone\n",
            "    Preparing wheel metadata ... \u001b[?25l\u001b[?25hdone\n",
            "Requirement already satisfied: filelock in /usr/local/lib/python3.7/dist-packages (from gdown) (3.7.1)\n",
            "Requirement already satisfied: beautifulsoup4 in /usr/local/lib/python3.7/dist-packages (from gdown) (4.6.3)\n",
            "Requirement already satisfied: requests[socks] in /usr/local/lib/python3.7/dist-packages (from gdown) (2.23.0)\n",
            "Requirement already satisfied: tqdm in /usr/local/lib/python3.7/dist-packages (from gdown) (4.64.0)\n",
            "Requirement already satisfied: six in /usr/local/lib/python3.7/dist-packages (from gdown) (1.15.0)\n",
            "Requirement already satisfied: urllib3!=1.25.0,!=1.25.1,<1.26,>=1.21.1 in /usr/local/lib/python3.7/dist-packages (from requests[socks]->gdown) (1.24.3)\n",
            "Requirement already satisfied: certifi>=2017.4.17 in /usr/local/lib/python3.7/dist-packages (from requests[socks]->gdown) (2022.6.15)\n",
            "Requirement already satisfied: chardet<4,>=3.0.2 in /usr/local/lib/python3.7/dist-packages (from requests[socks]->gdown) (3.0.4)\n",
            "Requirement already satisfied: idna<3,>=2.5 in /usr/local/lib/python3.7/dist-packages (from requests[socks]->gdown) (2.10)\n",
            "Requirement already satisfied: PySocks!=1.5.7,>=1.5.6 in /usr/local/lib/python3.7/dist-packages (from requests[socks]->gdown) (1.7.1)\n",
            "Building wheels for collected packages: gdown\n",
            "  Building wheel for gdown (PEP 517) ... \u001b[?25l\u001b[?25hdone\n",
            "  Created wheel for gdown: filename=gdown-4.5.1-py3-none-any.whl size=14951 sha256=76490661fc67d4e017333b2331489d0624a14c30c4aea4f1a16066c3c4a3d9d3\n",
            "  Stored in directory: /root/.cache/pip/wheels/3d/ec/b0/a96d1d126183f98570a785e6bf8789fca559853a9260e928e1\n",
            "Successfully built gdown\n",
            "Installing collected packages: gdown\n",
            "  Attempting uninstall: gdown\n",
            "    Found existing installation: gdown 4.4.0\n",
            "    Uninstalling gdown-4.4.0:\n",
            "      Successfully uninstalled gdown-4.4.0\n",
            "Successfully installed gdown-4.5.1\n"
          ]
        }
      ],
      "source": [
        "# Установка функции gdown для загрузки файла\n",
        "! pip install --upgrade gdown"
      ]
    },
    {
      "cell_type": "code",
      "execution_count": null,
      "metadata": {
        "id": "KVlITgpW0W45",
        "colab": {
          "base_uri": "https://localhost:8080/"
        },
        "outputId": "a3ff3f84-f5ba-46dc-eb6a-76151f46b67f"
      },
      "outputs": [
        {
          "output_type": "stream",
          "name": "stdout",
          "text": [
            "Downloading...\n",
            "From: https://drive.google.com/uc?id=1Lyow-PiRItU4lT-Dr5yZS0HQj59fmNod\n",
            "To: /content/location_temp.csv\n",
            "100% 14.9M/14.9M [00:00<00:00, 63.5MB/s]\n"
          ]
        }
      ],
      "source": [
        "# Загрузка файла через функцию gdown\n",
        "! gdown 1Lyow-PiRItU4lT-Dr5yZS0HQj59fmNod"
      ]
    },
    {
      "cell_type": "code",
      "execution_count": null,
      "metadata": {
        "id": "OvyqnG3Sz1vK"
      },
      "outputs": [],
      "source": [
        "# Датафрейм читаем через эту функцию spark.read.format с форматом csv, через load загрузка файла\n",
        "df_location = spark.read.format('csv').options(header=True).load('./location_temp.csv')"
      ]
    },
    {
      "cell_type": "code",
      "execution_count": null,
      "metadata": {
        "id": "W1czH-elBoSY",
        "colab": {
          "base_uri": "https://localhost:8080/"
        },
        "outputId": "ec297b48-3060-4d43-e113-c8fb356b1911"
      },
      "outputs": [
        {
          "output_type": "execute_result",
          "data": {
            "text/plain": [
              "[Row(event_date='03/04/2019 19:48:06', location_id='loc0', temp_celcius='29'),\n",
              " Row(event_date='03/04/2019 19:53:06', location_id='loc0', temp_celcius='27'),\n",
              " Row(event_date='03/04/2019 19:58:06', location_id='loc0', temp_celcius='28'),\n",
              " Row(event_date='03/04/2019 20:03:06', location_id='loc0', temp_celcius='30'),\n",
              " Row(event_date='03/04/2019 20:08:06', location_id='loc0', temp_celcius='27'),\n",
              " Row(event_date='03/04/2019 20:13:06', location_id='loc0', temp_celcius='27'),\n",
              " Row(event_date='03/04/2019 20:18:06', location_id='loc0', temp_celcius='27'),\n",
              " Row(event_date='03/04/2019 20:23:06', location_id='loc0', temp_celcius='29'),\n",
              " Row(event_date='03/04/2019 20:28:06', location_id='loc0', temp_celcius='32'),\n",
              " Row(event_date='03/04/2019 20:33:06', location_id='loc0', temp_celcius='35')]"
            ]
          },
          "metadata": {},
          "execution_count": 7
        }
      ],
      "source": [
        "# Выводим  первые 10 строк\n",
        "df_location.head(10)"
      ]
    },
    {
      "cell_type": "code",
      "execution_count": null,
      "metadata": {
        "id": "ZafbtAhrBpgc",
        "colab": {
          "base_uri": "https://localhost:8080/"
        },
        "outputId": "9255b4cf-c518-4798-cb85-7375c3bdf20b"
      },
      "outputs": [
        {
          "output_type": "stream",
          "name": "stdout",
          "text": [
            "+-------------------+-----------+------------+\n",
            "|         event_date|location_id|temp_celcius|\n",
            "+-------------------+-----------+------------+\n",
            "|03/04/2019 19:48:06|       loc0|          29|\n",
            "|03/04/2019 19:53:06|       loc0|          27|\n",
            "|03/04/2019 19:58:06|       loc0|          28|\n",
            "|03/04/2019 20:03:06|       loc0|          30|\n",
            "|03/04/2019 20:08:06|       loc0|          27|\n",
            "|03/04/2019 20:13:06|       loc0|          27|\n",
            "|03/04/2019 20:18:06|       loc0|          27|\n",
            "|03/04/2019 20:23:06|       loc0|          29|\n",
            "|03/04/2019 20:28:06|       loc0|          32|\n",
            "|03/04/2019 20:33:06|       loc0|          35|\n",
            "|03/04/2019 20:38:06|       loc0|          32|\n",
            "|03/04/2019 20:43:06|       loc0|          28|\n",
            "|03/04/2019 20:48:06|       loc0|          28|\n",
            "|03/04/2019 20:53:06|       loc0|          32|\n",
            "|03/04/2019 20:58:06|       loc0|          34|\n",
            "|03/04/2019 21:03:06|       loc0|          33|\n",
            "|03/04/2019 21:08:06|       loc0|          27|\n",
            "|03/04/2019 21:13:06|       loc0|          28|\n",
            "|03/04/2019 21:18:06|       loc0|          33|\n",
            "|03/04/2019 21:23:06|       loc0|          28|\n",
            "+-------------------+-----------+------------+\n",
            "only showing top 20 rows\n",
            "\n"
          ]
        }
      ],
      "source": [
        "# показываем дата сет(выводится только 20 строк)\n",
        "df_location.show()"
      ]
    },
    {
      "cell_type": "code",
      "execution_count": null,
      "metadata": {
        "id": "8LC2mZkJB11r",
        "colab": {
          "base_uri": "https://localhost:8080/",
          "height": 35
        },
        "outputId": "b7203edc-a9cf-45fd-9102-cc30844f83f7"
      },
      "outputs": [
        {
          "output_type": "display_data",
          "data": {
            "text/plain": [
              "DataFrame[event_date: string, location_id: string, temp_celcius: string]"
            ]
          },
          "metadata": {}
        }
      ],
      "source": [
        "# Информацию по столбцам\n",
        "display(df_location)"
      ]
    },
    {
      "cell_type": "code",
      "execution_count": null,
      "metadata": {
        "id": "A6Az66BYB3yu",
        "colab": {
          "base_uri": "https://localhost:8080/"
        },
        "outputId": "f1fad012-2e7d-41c7-d55c-ddd0968850f1"
      },
      "outputs": [
        {
          "output_type": "execute_result",
          "data": {
            "text/plain": [
              "500000"
            ]
          },
          "metadata": {},
          "execution_count": 10
        }
      ],
      "source": [
        "# Вывод количества строк\n",
        "df_location.count()"
      ]
    },
    {
      "cell_type": "code",
      "execution_count": null,
      "metadata": {
        "id": "koQWtuCdCAPt",
        "colab": {
          "base_uri": "https://localhost:8080/"
        },
        "outputId": "8f7f9df8-c084-4daa-b522-55e6034adc64"
      },
      "outputs": [
        {
          "output_type": "stream",
          "name": "stdout",
          "text": [
            "Downloading...\n",
            "From: https://drive.google.com/uc?id=1v0NQQLBlvxT6_igtkONstoTqi64cSxcw\n",
            "To: /content/utilization.csv\n",
            "100% 18.5M/18.5M [00:00<00:00, 99.3MB/s]\n"
          ]
        }
      ],
      "source": [
        "# Загрузка файла\n",
        "! gdown 1v0NQQLBlvxT6_igtkONstoTqi64cSxcw"
      ]
    },
    {
      "cell_type": "code",
      "execution_count": null,
      "metadata": {
        "id": "aoRhTRYuB_lP"
      },
      "outputs": [],
      "source": [
        "df_util = spark.read.format('csv').options(header=False, inferSchema=True).load('./utilization.csv')"
      ]
    },
    {
      "cell_type": "code",
      "execution_count": null,
      "metadata": {
        "id": "mca81p7xCiKJ",
        "colab": {
          "base_uri": "https://localhost:8080/"
        },
        "outputId": "8db17b02-33d5-4895-d876-354d2c84519f"
      },
      "outputs": [
        {
          "output_type": "execute_result",
          "data": {
            "text/plain": [
              "500000"
            ]
          },
          "metadata": {},
          "execution_count": 13
        }
      ],
      "source": [
        "df_util.count()"
      ]
    },
    {
      "cell_type": "code",
      "execution_count": null,
      "metadata": {
        "id": "SYysf6TMCihN",
        "colab": {
          "base_uri": "https://localhost:8080/"
        },
        "outputId": "1ccb93d5-4177-41c5-e938-d3244be0dbd6"
      },
      "outputs": [
        {
          "output_type": "execute_result",
          "data": {
            "text/plain": [
              "[Row(_c0='03/05/2019 08:06:14', _c1=100, _c2=0.57, _c3=0.51, _c4=47),\n",
              " Row(_c0='03/05/2019 08:11:14', _c1=100, _c2=0.47, _c3=0.62, _c4=43),\n",
              " Row(_c0='03/05/2019 08:16:14', _c1=100, _c2=0.56, _c3=0.57, _c4=62),\n",
              " Row(_c0='03/05/2019 08:21:14', _c1=100, _c2=0.57, _c3=0.56, _c4=50),\n",
              " Row(_c0='03/05/2019 08:26:14', _c1=100, _c2=0.35, _c3=0.46, _c4=43)]"
            ]
          },
          "metadata": {},
          "execution_count": 14
        }
      ],
      "source": [
        "# поскольку заголовок отсутствует, spark автоматически сгенерирует имена столбцов\n",
        "df_util.head(5)"
      ]
    },
    {
      "cell_type": "code",
      "execution_count": null,
      "metadata": {
        "id": "GYhuE2OGCkk1",
        "colab": {
          "base_uri": "https://localhost:8080/"
        },
        "outputId": "28243898-592e-4d84-fba1-15138be9e3f6"
      },
      "outputs": [
        {
          "output_type": "stream",
          "name": "stdout",
          "text": [
            "+-------------------+---+----+----+---+\n",
            "|                _c0|_c1| _c2| _c3|_c4|\n",
            "+-------------------+---+----+----+---+\n",
            "|03/05/2019 08:06:14|100|0.57|0.51| 47|\n",
            "|03/05/2019 08:11:14|100|0.47|0.62| 43|\n",
            "|03/05/2019 08:16:14|100|0.56|0.57| 62|\n",
            "|03/05/2019 08:21:14|100|0.57|0.56| 50|\n",
            "|03/05/2019 08:26:14|100|0.35|0.46| 43|\n",
            "|03/05/2019 08:31:14|100|0.41|0.58| 48|\n",
            "|03/05/2019 08:36:14|100|0.57|0.35| 58|\n",
            "|03/05/2019 08:41:14|100|0.41| 0.4| 58|\n",
            "|03/05/2019 08:46:14|100|0.53|0.35| 62|\n",
            "|03/05/2019 08:51:14|100|0.51| 0.6| 45|\n",
            "+-------------------+---+----+----+---+\n",
            "only showing top 10 rows\n",
            "\n"
          ]
        }
      ],
      "source": [
        "# Показ строк(10 строк)\n",
        "df_util.show(10)"
      ]
    },
    {
      "cell_type": "markdown",
      "metadata": {
        "id": "rQyeLwf_2Oua"
      },
      "source": [
        "**Переименование имен столбцов и работа с ними.**"
      ]
    },
    {
      "cell_type": "code",
      "execution_count": null,
      "metadata": {
        "id": "8pE1bKUFCmRu"
      },
      "outputs": [],
      "source": [
        "# Каждый столбец мы переименовываем для нашего удобства\n",
        "df_util = df_util.withColumnRenamed('_c0', 'event_datetime') \\\n",
        "                        .withColumnRenamed('_c1', 'server_id') \\\n",
        "                        .withColumnRenamed('_c2', 'cpu') \\\n",
        "                        .withColumnRenamed('_c3', 'free_memory') \\\n",
        "                        .withColumnRenamed('_c4', 'session_count')"
      ]
    },
    {
      "cell_type": "code",
      "execution_count": null,
      "metadata": {
        "id": "QfOqmj5yCoZO",
        "colab": {
          "base_uri": "https://localhost:8080/"
        },
        "outputId": "4d1b053f-e0c4-4a60-98b5-318a6e0d5bf6"
      },
      "outputs": [
        {
          "output_type": "stream",
          "name": "stdout",
          "text": [
            "+-------------------+---------+----+-----------+-------------+\n",
            "|     event_datetime|server_id| cpu|free_memory|session_count|\n",
            "+-------------------+---------+----+-----------+-------------+\n",
            "|03/05/2019 08:06:14|      100|0.57|       0.51|           47|\n",
            "|03/05/2019 08:11:14|      100|0.47|       0.62|           43|\n",
            "|03/05/2019 08:16:14|      100|0.56|       0.57|           62|\n",
            "|03/05/2019 08:21:14|      100|0.57|       0.56|           50|\n",
            "|03/05/2019 08:26:14|      100|0.35|       0.46|           43|\n",
            "+-------------------+---------+----+-----------+-------------+\n",
            "only showing top 5 rows\n",
            "\n"
          ]
        }
      ],
      "source": [
        "# Вывод строк уже с названиями столбцов\n",
        "df_util.show(5)"
      ]
    },
    {
      "cell_type": "code",
      "execution_count": null,
      "metadata": {
        "id": "m6UJnl7FEVQG",
        "colab": {
          "base_uri": "https://localhost:8080/"
        },
        "outputId": "29198de8-4942-4476-f8ec-1d485451518e"
      },
      "outputs": [
        {
          "output_type": "stream",
          "name": "stdout",
          "text": [
            "Downloading...\n",
            "From: https://drive.google.com/uc?id=12x2rvs4JTk8ivO15JRfL8fEreQGSapyY\n",
            "To: /content/utilization.json\n",
            "\r  0% 0.00/1.12k [00:00<?, ?B/s]\r100% 1.12k/1.12k [00:00<00:00, 1.37MB/s]\n"
          ]
        }
      ],
      "source": [
        "# Загрузка файла\n",
        "! gdown 12x2rvs4JTk8ivO15JRfL8fEreQGSapyY"
      ]
    },
    {
      "cell_type": "code",
      "execution_count": null,
      "metadata": {
        "id": "B0RZjgrQCrC9"
      },
      "outputs": [],
      "source": [
        "# Читаем файл с определенным форматом\n",
        "df = spark.read.format('json').load('./utilization.json')"
      ]
    },
    {
      "cell_type": "code",
      "execution_count": null,
      "metadata": {
        "id": "4iLbV61ZElOv",
        "colab": {
          "base_uri": "https://localhost:8080/"
        },
        "outputId": "8f5b1b3b-b62d-4967-ca55-46b397d117c9"
      },
      "outputs": [
        {
          "output_type": "execute_result",
          "data": {
            "text/plain": [
              "10"
            ]
          },
          "metadata": {},
          "execution_count": 20
        }
      ],
      "source": [
        "# Подсчет\n",
        "df.count()"
      ]
    },
    {
      "cell_type": "code",
      "execution_count": null,
      "metadata": {
        "id": "k-WGW5m9Elhy",
        "colab": {
          "base_uri": "https://localhost:8080/"
        },
        "outputId": "8698ea47-43ae-4b5d-aa10-76a6f1a597dc"
      },
      "outputs": [
        {
          "output_type": "stream",
          "name": "stdout",
          "text": [
            "+----+-------------------+-----------+---------+-------------+\n",
            "| cpu|     event_datetime|free_memory|server_id|session_count|\n",
            "+----+-------------------+-----------+---------+-------------+\n",
            "|0.57|03/05/2019 08:06:14|       0.51|      100|           47|\n",
            "|0.47|03/05/2019 08:11:14|       0.62|      100|           43|\n",
            "|0.56|03/05/2019 08:16:14|       0.57|      100|           62|\n",
            "|0.57|03/05/2019 08:21:14|       0.56|      100|           50|\n",
            "|0.35|03/05/2019 08:26:14|       0.46|      100|           43|\n",
            "|0.57|03/05/2019 08:06:14|       0.51|      200|           47|\n",
            "|0.47|03/05/2019 08:11:14|       0.62|      200|           43|\n",
            "|0.56|03/05/2019 08:16:14|       0.57|      200|           62|\n",
            "|0.57|03/05/2019 08:21:14|       0.56|      200|           50|\n",
            "|0.35|03/05/2019 08:26:14|       0.46|      200|           43|\n",
            "+----+-------------------+-----------+---------+-------------+\n",
            "\n"
          ]
        }
      ],
      "source": [
        "# Показ информации\n",
        "df.show()"
      ]
    },
    {
      "cell_type": "code",
      "execution_count": null,
      "metadata": {
        "id": "yNEm686LEnRi",
        "colab": {
          "base_uri": "https://localhost:8080/"
        },
        "outputId": "365940d1-5126-4449-a898-253a6649b99a"
      },
      "outputs": [
        {
          "output_type": "execute_result",
          "data": {
            "text/plain": [
              "Row(cpu=0.57, event_datetime='03/05/2019 08:06:14', free_memory=0.51, server_id=100, session_count=47)"
            ]
          },
          "metadata": {},
          "execution_count": 22
        }
      ],
      "source": [
        "# Выведение одной строки\n",
        "df.head()"
      ]
    },
    {
      "cell_type": "code",
      "execution_count": null,
      "metadata": {
        "id": "vhoc6FbUEo5R",
        "colab": {
          "base_uri": "https://localhost:8080/"
        },
        "outputId": "713e12f4-8aa0-4f29-8fc0-64efbbbc53f5"
      },
      "outputs": [
        {
          "output_type": "execute_result",
          "data": {
            "text/plain": [
              "['cpu', 'event_datetime', 'free_memory', 'server_id', 'session_count']"
            ]
          },
          "metadata": {},
          "execution_count": 23
        }
      ],
      "source": [
        "# Вывод колонок, которые есть в датафрейме\n",
        "df.columns"
      ]
    },
    {
      "cell_type": "code",
      "execution_count": null,
      "metadata": {
        "id": "7i345Zi8ExbR"
      },
      "outputs": [],
      "source": [
        "# Вывод строки по условию (получить выборку без замены для 20% исходного набора данных)\n",
        "df_sample = df.sample(False, 0.2)"
      ]
    },
    {
      "cell_type": "code",
      "execution_count": null,
      "metadata": {
        "id": "mLwn0pkREy2h",
        "colab": {
          "base_uri": "https://localhost:8080/"
        },
        "outputId": "4d338e26-759d-4c51-ce33-60e59c10d9d3"
      },
      "outputs": [
        {
          "output_type": "stream",
          "name": "stdout",
          "text": [
            "+---+--------------+-----------+---------+-------------+\n",
            "|cpu|event_datetime|free_memory|server_id|session_count|\n",
            "+---+--------------+-----------+---------+-------------+\n",
            "+---+--------------+-----------+---------+-------------+\n",
            "\n"
          ]
        }
      ],
      "source": [
        "df_sample.show()"
      ]
    },
    {
      "cell_type": "markdown",
      "metadata": {
        "id": "dpqiTQC837pO"
      },
      "source": [
        "**Сортировка данных**"
      ]
    },
    {
      "cell_type": "code",
      "execution_count": null,
      "metadata": {
        "id": "aKPZHzRME1sY",
        "colab": {
          "base_uri": "https://localhost:8080/"
        },
        "outputId": "8df5b133-30b1-49ec-8dc4-b41d6230da9b"
      },
      "outputs": [
        {
          "output_type": "stream",
          "name": "stdout",
          "text": [
            "+----+-------------------+-----------+---------+-------------+\n",
            "| cpu|     event_datetime|free_memory|server_id|session_count|\n",
            "+----+-------------------+-----------+---------+-------------+\n",
            "|0.57|03/05/2019 08:06:14|       0.51|      100|           47|\n",
            "|0.47|03/05/2019 08:11:14|       0.62|      100|           43|\n",
            "|0.56|03/05/2019 08:16:14|       0.57|      100|           62|\n",
            "|0.57|03/05/2019 08:21:14|       0.56|      100|           50|\n",
            "|0.35|03/05/2019 08:26:14|       0.46|      100|           43|\n",
            "|0.57|03/05/2019 08:06:14|       0.51|      200|           47|\n",
            "|0.47|03/05/2019 08:11:14|       0.62|      200|           43|\n",
            "|0.56|03/05/2019 08:16:14|       0.57|      200|           62|\n",
            "|0.57|03/05/2019 08:21:14|       0.56|      200|           50|\n",
            "|0.35|03/05/2019 08:26:14|       0.46|      200|           43|\n",
            "+----+-------------------+-----------+---------+-------------+\n",
            "\n"
          ]
        }
      ],
      "source": [
        "df.show()"
      ]
    },
    {
      "cell_type": "code",
      "execution_count": null,
      "metadata": {
        "id": "Zj8foQ9GE3Eg"
      },
      "outputs": [],
      "source": [
        "# сортировка по количеству сеансов в порядке убывания\n",
        "df_sorted = df.sort('session_count', ascending=False)"
      ]
    },
    {
      "cell_type": "code",
      "execution_count": null,
      "metadata": {
        "id": "WbGz6GioE5gA",
        "colab": {
          "base_uri": "https://localhost:8080/"
        },
        "outputId": "5dd39a34-2ae4-4991-b82a-5d3d3702de80"
      },
      "outputs": [
        {
          "output_type": "stream",
          "name": "stdout",
          "text": [
            "+----+-------------------+-----------+---------+-------------+\n",
            "| cpu|     event_datetime|free_memory|server_id|session_count|\n",
            "+----+-------------------+-----------+---------+-------------+\n",
            "|0.56|03/05/2019 08:16:14|       0.57|      100|           62|\n",
            "|0.56|03/05/2019 08:16:14|       0.57|      200|           62|\n",
            "|0.57|03/05/2019 08:21:14|       0.56|      100|           50|\n",
            "|0.57|03/05/2019 08:21:14|       0.56|      200|           50|\n",
            "|0.57|03/05/2019 08:06:14|       0.51|      100|           47|\n",
            "|0.57|03/05/2019 08:06:14|       0.51|      200|           47|\n",
            "|0.47|03/05/2019 08:11:14|       0.62|      100|           43|\n",
            "|0.35|03/05/2019 08:26:14|       0.46|      100|           43|\n",
            "|0.47|03/05/2019 08:11:14|       0.62|      200|           43|\n",
            "|0.35|03/05/2019 08:26:14|       0.46|      200|           43|\n",
            "+----+-------------------+-----------+---------+-------------+\n",
            "\n"
          ]
        }
      ],
      "source": [
        "# Вывод\n",
        "df_sorted.show()"
      ]
    },
    {
      "cell_type": "markdown",
      "metadata": {
        "id": "BAy1XRnC4O2_"
      },
      "source": [
        "**Получение уникальных локаций**"
      ]
    },
    {
      "cell_type": "code",
      "execution_count": null,
      "metadata": {
        "id": "Z4Tp0WLOE6kQ",
        "colab": {
          "base_uri": "https://localhost:8080/"
        },
        "outputId": "89050404-9012-459a-f339-d64ad193a74a"
      },
      "outputs": [
        {
          "output_type": "stream",
          "name": "stdout",
          "text": [
            "+-----------+\n",
            "|location_id|\n",
            "+-----------+\n",
            "|     loc196|\n",
            "|     loc226|\n",
            "|     loc150|\n",
            "|     loc292|\n",
            "|     loc311|\n",
            "|      loc22|\n",
            "|      loc31|\n",
            "|     loc305|\n",
            "|      loc82|\n",
            "|      loc90|\n",
            "|     loc118|\n",
            "|     loc195|\n",
            "|     loc208|\n",
            "|      loc39|\n",
            "|      loc75|\n",
            "|     loc228|\n",
            "|     loc203|\n",
            "|     loc193|\n",
            "|     loc122|\n",
            "|     loc145|\n",
            "+-----------+\n",
            "only showing top 20 rows\n",
            "\n"
          ]
        }
      ],
      "source": [
        "df_location.select('location_id').distinct().show()"
      ]
    },
    {
      "cell_type": "markdown",
      "metadata": {
        "id": "MxUhVKqH4dbf"
      },
      "source": [
        "**Фильтр для конкретных условий**"
      ]
    },
    {
      "cell_type": "code",
      "execution_count": null,
      "metadata": {
        "colab": {
          "base_uri": "https://localhost:8080/"
        },
        "id": "DNjefbpRE_zw",
        "outputId": "f809e9ba-cbd7-462c-a981-957a720a65f8"
      },
      "outputs": [
        {
          "output_type": "stream",
          "name": "stdout",
          "text": [
            "+-------------------+-----------+------------+\n",
            "|         event_date|location_id|temp_celcius|\n",
            "+-------------------+-----------+------------+\n",
            "|03/04/2019 19:48:10|      loc22|          30|\n",
            "|03/04/2019 19:53:10|      loc22|          30|\n",
            "|03/04/2019 19:58:10|      loc22|          26|\n",
            "|03/04/2019 20:03:10|      loc22|          27|\n",
            "|03/04/2019 20:08:10|      loc22|          29|\n",
            "|03/04/2019 20:13:10|      loc22|          27|\n",
            "|03/04/2019 20:18:10|      loc22|          26|\n",
            "|03/04/2019 20:23:10|      loc22|          35|\n",
            "|03/04/2019 20:28:10|      loc22|          27|\n",
            "|03/04/2019 20:33:10|      loc22|          26|\n",
            "|03/04/2019 20:38:10|      loc22|          30|\n",
            "|03/04/2019 20:43:10|      loc22|          29|\n",
            "|03/04/2019 20:48:10|      loc22|          28|\n",
            "|03/04/2019 20:53:10|      loc22|          27|\n",
            "|03/04/2019 20:58:10|      loc22|          26|\n",
            "|03/04/2019 21:03:10|      loc22|          29|\n",
            "|03/04/2019 21:08:10|      loc22|          32|\n",
            "|03/04/2019 21:13:10|      loc22|          26|\n",
            "|03/04/2019 21:18:10|      loc22|          31|\n",
            "|03/04/2019 21:23:10|      loc22|          26|\n",
            "+-------------------+-----------+------------+\n",
            "only showing top 20 rows\n",
            "\n"
          ]
        }
      ],
      "source": [
        "# получить строки, в которых идентификатор местоположения равен 22.\n",
        "df_location.filter(df_location['location_id'] == 'loc22').show()"
      ]
    },
    {
      "cell_type": "markdown",
      "metadata": {
        "id": "0BVlp1j74nZr"
      },
      "source": [
        "**Подсчет отфильтрованных строк**"
      ]
    },
    {
      "cell_type": "code",
      "execution_count": null,
      "metadata": {
        "id": "5on66bfnFQzh",
        "colab": {
          "base_uri": "https://localhost:8080/"
        },
        "outputId": "864ec072-0555-4615-f996-f066c3c7400e"
      },
      "outputs": [
        {
          "output_type": "execute_result",
          "data": {
            "text/plain": [
              "1000"
            ]
          },
          "metadata": {},
          "execution_count": 31
        }
      ],
      "source": [
        "df_location.filter(df_location['location_id'] == 'loc22').count()"
      ]
    },
    {
      "cell_type": "code",
      "execution_count": null,
      "metadata": {
        "id": "1Q0zoJ8TFUbn",
        "colab": {
          "base_uri": "https://localhost:8080/"
        },
        "outputId": "70f7d428-3076-473f-bdfb-7b7dd6a7010a"
      },
      "outputs": [
        {
          "output_type": "execute_result",
          "data": {
            "text/plain": [
              "1000"
            ]
          },
          "metadata": {},
          "execution_count": 32
        }
      ],
      "source": [
        "df_location.filter(df_location['location_id'] == 'loc196').count()"
      ]
    },
    {
      "cell_type": "markdown",
      "metadata": {
        "id": "fgXWh4qE46Mr"
      },
      "source": [
        "**Группировка**"
      ]
    },
    {
      "cell_type": "code",
      "execution_count": null,
      "metadata": {
        "id": "fJlziV3PFk43",
        "colab": {
          "base_uri": "https://localhost:8080/"
        },
        "outputId": "4236bf35-220a-47f4-cd3a-4494cc36770f"
      },
      "outputs": [
        {
          "output_type": "stream",
          "name": "stdout",
          "text": [
            "+-----------+-----+\n",
            "|location_id|count|\n",
            "+-----------+-----+\n",
            "|     loc196| 1000|\n",
            "|     loc226| 1000|\n",
            "|     loc150| 1000|\n",
            "|     loc292| 1000|\n",
            "|     loc311| 1000|\n",
            "|      loc22| 1000|\n",
            "|      loc31| 1000|\n",
            "|     loc305| 1000|\n",
            "|      loc82| 1000|\n",
            "|      loc90| 1000|\n",
            "|     loc118| 1000|\n",
            "|     loc195| 1000|\n",
            "|     loc208| 1000|\n",
            "|      loc39| 1000|\n",
            "|      loc75| 1000|\n",
            "|     loc228| 1000|\n",
            "|     loc203| 1000|\n",
            "|     loc193| 1000|\n",
            "|     loc122| 1000|\n",
            "|     loc145| 1000|\n",
            "+-----------+-----+\n",
            "only showing top 20 rows\n",
            "\n"
          ]
        }
      ],
      "source": [
        "# Мы хотим знать, сколько измерений у нас есть для каждого местоположения.\n",
        "df_location.groupBy('location_id').count().show()"
      ]
    },
    {
      "cell_type": "markdown",
      "metadata": {
        "id": "YZw6eyj85bNT"
      },
      "source": [
        "**Порядок**"
      ]
    },
    {
      "cell_type": "code",
      "execution_count": null,
      "metadata": {
        "id": "xnHreL1RFlQj",
        "colab": {
          "base_uri": "https://localhost:8080/"
        },
        "outputId": "6a6bd055-2490-46b3-c140-387c3c734c5a"
      },
      "outputs": [
        {
          "output_type": "stream",
          "name": "stdout",
          "text": [
            "+-------------------+-----------+------------+\n",
            "|         event_date|location_id|temp_celcius|\n",
            "+-------------------+-----------+------------+\n",
            "|03/04/2019 21:23:06|       loc0|          28|\n",
            "|03/04/2019 20:43:06|       loc0|          28|\n",
            "|03/04/2019 21:18:06|       loc0|          33|\n",
            "|03/04/2019 20:18:06|       loc0|          27|\n",
            "|03/04/2019 20:38:06|       loc0|          32|\n",
            "|03/04/2019 20:58:06|       loc0|          34|\n",
            "|03/04/2019 21:13:06|       loc0|          28|\n",
            "|03/04/2019 19:58:06|       loc0|          28|\n",
            "|03/04/2019 20:13:06|       loc0|          27|\n",
            "|03/04/2019 20:28:06|       loc0|          32|\n",
            "|03/04/2019 20:33:06|       loc0|          35|\n",
            "|03/04/2019 20:48:06|       loc0|          28|\n",
            "|03/04/2019 20:53:06|       loc0|          32|\n",
            "|03/04/2019 21:03:06|       loc0|          33|\n",
            "|03/04/2019 21:08:06|       loc0|          27|\n",
            "|03/04/2019 19:48:06|       loc0|          29|\n",
            "|03/04/2019 19:53:06|       loc0|          27|\n",
            "|03/04/2019 20:03:06|       loc0|          30|\n",
            "|03/04/2019 20:08:06|       loc0|          27|\n",
            "|03/04/2019 20:23:06|       loc0|          29|\n",
            "+-------------------+-----------+------------+\n",
            "only showing top 20 rows\n",
            "\n"
          ]
        }
      ],
      "source": [
        "# Порядок по location_id\n",
        "df_location.orderBy('location_id').show()"
      ]
    },
    {
      "cell_type": "markdown",
      "metadata": {
        "id": "szV5x5z05ebb"
      },
      "source": [
        "**Объединение по группировке и порядку**"
      ]
    },
    {
      "cell_type": "code",
      "execution_count": null,
      "metadata": {
        "id": "LmlaN0sHFrZ1",
        "colab": {
          "base_uri": "https://localhost:8080/"
        },
        "outputId": "f4850599-d0e4-4fa8-fa1c-cbab3dba48ee"
      },
      "outputs": [
        {
          "output_type": "stream",
          "name": "stdout",
          "text": [
            "+-----------+-----+\n",
            "|location_id|count|\n",
            "+-----------+-----+\n",
            "|       loc0| 1000|\n",
            "|       loc1| 1000|\n",
            "|      loc10| 1000|\n",
            "|     loc100| 1000|\n",
            "|     loc101| 1000|\n",
            "|     loc102| 1000|\n",
            "|     loc103| 1000|\n",
            "|     loc104| 1000|\n",
            "|     loc105| 1000|\n",
            "|     loc106| 1000|\n",
            "|     loc107| 1000|\n",
            "|     loc108| 1000|\n",
            "|     loc109| 1000|\n",
            "|      loc11| 1000|\n",
            "|     loc110| 1000|\n",
            "|     loc111| 1000|\n",
            "|     loc112| 1000|\n",
            "|     loc113| 1000|\n",
            "|     loc114| 1000|\n",
            "|     loc115| 1000|\n",
            "+-----------+-----+\n",
            "only showing top 20 rows\n",
            "\n"
          ]
        }
      ],
      "source": [
        "# Мы хотим знать, сколько измерений у нас есть для каждого местоположения, отсортированного по идентификатору местоположения\n",
        "df_location.groupBy('location_id').count().orderBy('location_id', ascending=True).show()"
      ]
    },
    {
      "cell_type": "markdown",
      "metadata": {
        "id": "93R6Atxg5rb5"
      },
      "source": [
        "**Агрегация / Агрегатная функция**"
      ]
    },
    {
      "cell_type": "code",
      "execution_count": null,
      "metadata": {
        "id": "1zezB_KoFxKw",
        "colab": {
          "base_uri": "https://localhost:8080/"
        },
        "outputId": "aa7cbf44-8500-4dda-845b-839e712c6e1c"
      },
      "outputs": [
        {
          "output_type": "stream",
          "name": "stdout",
          "text": [
            "+-----------+-----------------+\n",
            "|location_id|avg(temp_celcius)|\n",
            "+-----------+-----------------+\n",
            "|     loc196|           29.225|\n",
            "|     loc226|           25.306|\n",
            "|     loc150|           32.188|\n",
            "|     loc292|           29.159|\n",
            "|     loc311|           24.308|\n",
            "|      loc22|           28.251|\n",
            "|      loc31|           25.196|\n",
            "|     loc305|           27.314|\n",
            "|      loc82|           27.355|\n",
            "|      loc90|           23.216|\n",
            "|     loc118|           24.219|\n",
            "|     loc195|            27.25|\n",
            "|     loc208|           26.206|\n",
            "|      loc39|           25.199|\n",
            "|      loc75|           23.209|\n",
            "|     loc228|           27.295|\n",
            "|     loc203|           26.214|\n",
            "|     loc193|           30.225|\n",
            "|     loc122|            32.36|\n",
            "|     loc145|           32.309|\n",
            "+-----------+-----------------+\n",
            "only showing top 20 rows\n",
            "\n"
          ]
        }
      ],
      "source": [
        "# Мы хотим знать среднюю температуру в каждом месте.\n",
        "df_location.groupBy('location_id').agg({'temp_celcius': 'mean'}).show()"
      ]
    },
    {
      "cell_type": "code",
      "execution_count": null,
      "metadata": {
        "id": "nYcvxDyoKcq9",
        "colab": {
          "base_uri": "https://localhost:8080/"
        },
        "outputId": "aba3473a-63a4-4f47-c522-336ad96344a2"
      },
      "outputs": [
        {
          "output_type": "stream",
          "name": "stdout",
          "text": [
            "+-----------+-----------------+\n",
            "|location_id|avg(temp_celcius)|\n",
            "+-----------+-----------------+\n",
            "|     loc196|           29.225|\n",
            "|     loc226|           25.306|\n",
            "|     loc150|           32.188|\n",
            "|     loc292|           29.159|\n",
            "|     loc311|           24.308|\n",
            "|      loc22|           28.251|\n",
            "|      loc31|           25.196|\n",
            "|     loc305|           27.314|\n",
            "|      loc82|           27.355|\n",
            "|      loc90|           23.216|\n",
            "|     loc118|           24.219|\n",
            "|     loc195|            27.25|\n",
            "|     loc208|           26.206|\n",
            "|      loc39|           25.199|\n",
            "|      loc75|           23.209|\n",
            "|     loc228|           27.295|\n",
            "|     loc203|           26.214|\n",
            "|     loc193|           30.225|\n",
            "|     loc122|            32.36|\n",
            "|     loc145|           32.309|\n",
            "+-----------+-----------------+\n",
            "only showing top 20 rows\n",
            "\n"
          ]
        }
      ],
      "source": [
        "df_location.groupBy('location_id').agg({'temp_celcius': 'avg'}).show()"
      ]
    },
    {
      "cell_type": "code",
      "execution_count": null,
      "metadata": {
        "id": "2rP6lmXvKghW",
        "colab": {
          "base_uri": "https://localhost:8080/"
        },
        "outputId": "694b69f1-2cf6-4f4b-9b69-c5640a1adf0a"
      },
      "outputs": [
        {
          "output_type": "stream",
          "name": "stdout",
          "text": [
            "+-----------+-----------------+\n",
            "|location_id|avg(temp_celcius)|\n",
            "+-----------+-----------------+\n",
            "|       loc0|           29.176|\n",
            "|       loc1|           28.246|\n",
            "|      loc10|           25.337|\n",
            "|     loc100|           27.297|\n",
            "|     loc101|           25.317|\n",
            "|     loc102|           30.327|\n",
            "|     loc103|           25.341|\n",
            "|     loc104|           26.204|\n",
            "|     loc105|           26.217|\n",
            "|     loc106|           27.201|\n",
            "|     loc107|           33.268|\n",
            "|     loc108|           32.195|\n",
            "|     loc109|           24.138|\n",
            "|      loc11|           25.308|\n",
            "|     loc110|           26.239|\n",
            "|     loc111|           31.391|\n",
            "|     loc112|           33.359|\n",
            "|     loc113|           30.345|\n",
            "|     loc114|           29.261|\n",
            "|     loc115|           23.239|\n",
            "+-----------+-----------------+\n",
            "only showing top 20 rows\n",
            "\n"
          ]
        }
      ],
      "source": [
        "# Группировка по location_id и выводится temp_celcius среднее значение, по порядку и вывод\n",
        "df_location.groupBy('location_id').agg({'temp_celcius': 'mean'}).orderBy('location_id', ascending=True).show()"
      ]
    },
    {
      "cell_type": "code",
      "execution_count": null,
      "metadata": {
        "id": "B8er-rjaKpD0",
        "colab": {
          "base_uri": "https://localhost:8080/"
        },
        "outputId": "e0a29075-3234-4cb1-ce04-eaaa63cfb967"
      },
      "outputs": [
        {
          "output_type": "stream",
          "name": "stdout",
          "text": [
            "+-----------+-----------------+\n",
            "|location_id|max(temp_celcius)|\n",
            "+-----------+-----------------+\n",
            "|       loc0|               36|\n",
            "|       loc1|               35|\n",
            "|      loc10|               32|\n",
            "|     loc100|               34|\n",
            "|     loc101|               32|\n",
            "|     loc102|               37|\n",
            "|     loc103|               32|\n",
            "|     loc104|               33|\n",
            "|     loc105|               33|\n",
            "|     loc106|               34|\n",
            "|     loc107|               40|\n",
            "|     loc108|               39|\n",
            "|     loc109|               31|\n",
            "|      loc11|               32|\n",
            "|     loc110|               33|\n",
            "|     loc111|               38|\n",
            "|     loc112|               40|\n",
            "|     loc113|               37|\n",
            "|     loc114|               36|\n",
            "|     loc115|               30|\n",
            "+-----------+-----------------+\n",
            "only showing top 20 rows\n",
            "\n"
          ]
        }
      ],
      "source": [
        "# Группировка по location_id и по temp_celcius, выводится максимальное значение\n",
        "df_location.groupBy('location_id').agg({'temp_celcius': 'max'}).show()"
      ]
    },
    {
      "cell_type": "markdown",
      "metadata": {
        "id": "jws1WCLd7JsR"
      },
      "source": [
        "**Описательная статистика**"
      ]
    },
    {
      "cell_type": "code",
      "execution_count": null,
      "metadata": {
        "id": "lWn55z1NK118",
        "colab": {
          "base_uri": "https://localhost:8080/"
        },
        "outputId": "7f39a9b3-becc-42a9-edee-56b27658033c"
      },
      "outputs": [
        {
          "output_type": "stream",
          "name": "stdout",
          "text": [
            "+-----------+-----------------+\n",
            "|location_id|avg(temp_celcius)|\n",
            "+-----------+-----------------+\n",
            "|     loc196|           29.225|\n",
            "|     loc226|           25.306|\n",
            "|     loc150|           32.188|\n",
            "|     loc292|           29.159|\n",
            "|     loc311|           24.308|\n",
            "|      loc22|           28.251|\n",
            "|      loc31|           25.196|\n",
            "|     loc305|           27.314|\n",
            "|      loc82|           27.355|\n",
            "|      loc90|           23.216|\n",
            "|     loc118|           24.219|\n",
            "|     loc195|            27.25|\n",
            "|     loc208|           26.206|\n",
            "|      loc39|           25.199|\n",
            "|      loc75|           23.209|\n",
            "|     loc228|           27.295|\n",
            "|     loc203|           26.214|\n",
            "|     loc193|           30.225|\n",
            "|     loc122|            32.36|\n",
            "|     loc145|           32.309|\n",
            "+-----------+-----------------+\n",
            "only showing top 20 rows\n",
            "\n"
          ]
        }
      ],
      "source": [
        "# Группировка по location_id и temp_celcius, выводится среднее\n",
        "df_location.groupBy('location_id').agg({'temp_celcius': 'mean'}).show()"
      ]
    },
    {
      "cell_type": "code",
      "execution_count": null,
      "metadata": {
        "id": "scIaObwiK6_8",
        "colab": {
          "base_uri": "https://localhost:8080/"
        },
        "outputId": "3334c50f-5dd3-4c21-c725-3c92c35d5f93"
      },
      "outputs": [
        {
          "output_type": "stream",
          "name": "stdout",
          "text": [
            "+-----------+-----------------+\n",
            "|location_id|avg(temp_celcius)|\n",
            "+-----------+-----------------+\n",
            "|       loc0|           29.176|\n",
            "|       loc1|           28.246|\n",
            "|      loc10|           25.337|\n",
            "|     loc100|           27.297|\n",
            "|     loc101|           25.317|\n",
            "|     loc102|           30.327|\n",
            "|     loc103|           25.341|\n",
            "|     loc104|           26.204|\n",
            "|     loc105|           26.217|\n",
            "|     loc106|           27.201|\n",
            "+-----------+-----------------+\n",
            "only showing top 10 rows\n",
            "\n"
          ]
        }
      ],
      "source": [
        "# среднее значение температуры для каждого местоположения в порядке возрастания местоположения\n",
        "df_location.groupBy('location_id').agg({'temp_celcius': 'mean'}).orderBy('location_id').show(10)"
      ]
    },
    {
      "cell_type": "markdown",
      "metadata": {
        "id": "v6t2-W4C7uzb"
      },
      "source": [
        "**Сохранение CSV-файла на диске**"
      ]
    },
    {
      "cell_type": "code",
      "execution_count": null,
      "metadata": {
        "id": "Ujwbhsl6LKfw"
      },
      "outputs": [],
      "source": [
        "df_location.write.csv('temp_data.csv')"
      ]
    },
    {
      "cell_type": "code",
      "execution_count": null,
      "metadata": {
        "id": "HObYGbBJLN71",
        "colab": {
          "base_uri": "https://localhost:8080/"
        },
        "outputId": "5f1fe838-68ef-44bc-871b-950e4e9e7522"
      },
      "outputs": [
        {
          "output_type": "stream",
          "name": "stdout",
          "text": [
            "part-00000-c70969b1-baf2-4f9e-877e-ed08d53c2558-c000.csv  _SUCCESS\n",
            "part-00001-c70969b1-baf2-4f9e-877e-ed08d53c2558-c000.csv\n"
          ]
        }
      ],
      "source": [
        "# Использование команды оболочки для проверки файла\n",
        "! ls temp_data.csv"
      ]
    },
    {
      "cell_type": "code",
      "execution_count": null,
      "metadata": {
        "id": "2hKLSBbeLWCs"
      },
      "outputs": [],
      "source": [
        "# Сохраните файл JSON на диск\n",
        "df_location.write.json('temp_data.json')"
      ]
    },
    {
      "cell_type": "code",
      "execution_count": null,
      "metadata": {
        "id": "FVkQH97QLYVT",
        "colab": {
          "base_uri": "https://localhost:8080/"
        },
        "outputId": "e065e516-c4f3-440b-97ef-7551e8a600c4"
      },
      "outputs": [
        {
          "output_type": "stream",
          "name": "stdout",
          "text": [
            "part-00000-cb6a495f-ffaa-49c5-b2a8-6d0f825cf8c5-c000.json  _SUCCESS\n",
            "part-00001-cb6a495f-ffaa-49c5-b2a8-6d0f825cf8c5-c000.json\n"
          ]
        }
      ],
      "source": [
        "# Использование команды для проверки файла\n",
        "! ls temp_data.json"
      ]
    },
    {
      "cell_type": "markdown",
      "metadata": {
        "id": "aQshT73z9Skl"
      },
      "source": [
        "**Работа с SQL в Spark**"
      ]
    },
    {
      "cell_type": "code",
      "execution_count": null,
      "metadata": {
        "id": "Y84J-dPOL9xV"
      },
      "outputs": [],
      "source": [
        "# создать временное представление с именем \"использование\"\n",
        "df_util.createOrReplaceTempView('vw_utilization')"
      ]
    },
    {
      "cell_type": "code",
      "execution_count": null,
      "metadata": {
        "id": "ZOyZGzUqV-LJ"
      },
      "outputs": [],
      "source": [
        "# теперь мы можем выполнять запросы из этого созданного временного представления\n",
        "results = spark.sql('SELECT server_id, session_count FROM vw_utilization LIMIT 5;')"
      ]
    },
    {
      "cell_type": "code",
      "execution_count": null,
      "metadata": {
        "id": "ITQsmHFJV-lw",
        "colab": {
          "base_uri": "https://localhost:8080/"
        },
        "outputId": "ef695a3a-d10d-4217-9bad-5a8d6118a5ec"
      },
      "outputs": [
        {
          "output_type": "stream",
          "name": "stdout",
          "text": [
            "+---------+-------------+\n",
            "|server_id|session_count|\n",
            "+---------+-------------+\n",
            "|      100|           47|\n",
            "|      100|           43|\n",
            "|      100|           62|\n",
            "|      100|           50|\n",
            "|      100|           43|\n",
            "+---------+-------------+\n",
            "\n"
          ]
        }
      ],
      "source": [
        "# Вывод результата\n",
        "results.show()"
      ]
    },
    {
      "cell_type": "code",
      "execution_count": null,
      "metadata": {
        "id": "E8hfhebgWAjm"
      },
      "outputs": [],
      "source": [
        "#  Группируем server_id переименовывает элемент в sid, а session_count переименовывает элемент в  sc и берем эти данные из  vw_utilization, выводим 5 строк\n",
        "results = spark.sql('SELECT server_id AS sid, session_count AS sc FROM vw_utilization LIMIT 5;')"
      ]
    },
    {
      "cell_type": "code",
      "execution_count": null,
      "metadata": {
        "id": "pfVpH3TTWCIW",
        "colab": {
          "base_uri": "https://localhost:8080/"
        },
        "outputId": "dba05d35-1997-46f9-9fb6-2635c801f84a"
      },
      "outputs": [
        {
          "output_type": "stream",
          "name": "stdout",
          "text": [
            "+---+---+\n",
            "|sid| sc|\n",
            "+---+---+\n",
            "|100| 47|\n",
            "|100| 43|\n",
            "|100| 62|\n",
            "|100| 50|\n",
            "|100| 43|\n",
            "+---+---+\n",
            "\n"
          ]
        }
      ],
      "source": [
        "results.show()"
      ]
    },
    {
      "cell_type": "code",
      "execution_count": null,
      "metadata": {
        "id": "Ujxejgi0WDfm"
      },
      "outputs": [],
      "source": [
        "# Группировка из данны vw_utilization где по условию server_id равен 100\n",
        "results = spark.sql('SELECT * FROM vw_utilization WHERE server_id=100')"
      ]
    },
    {
      "cell_type": "code",
      "execution_count": null,
      "metadata": {
        "id": "WZZMrQPbazAr",
        "colab": {
          "base_uri": "https://localhost:8080/"
        },
        "outputId": "8920ffe9-2ae4-4c75-f9d3-7d079947dc61"
      },
      "outputs": [
        {
          "output_type": "stream",
          "name": "stdout",
          "text": [
            "+-------------------+---------+----+-----------+-------------+\n",
            "|     event_datetime|server_id| cpu|free_memory|session_count|\n",
            "+-------------------+---------+----+-----------+-------------+\n",
            "|03/05/2019 08:06:14|      100|0.57|       0.51|           47|\n",
            "|03/05/2019 08:11:14|      100|0.47|       0.62|           43|\n",
            "|03/05/2019 08:16:14|      100|0.56|       0.57|           62|\n",
            "|03/05/2019 08:21:14|      100|0.57|       0.56|           50|\n",
            "|03/05/2019 08:26:14|      100|0.35|       0.46|           43|\n",
            "|03/05/2019 08:31:14|      100|0.41|       0.58|           48|\n",
            "|03/05/2019 08:36:14|      100|0.57|       0.35|           58|\n",
            "|03/05/2019 08:41:14|      100|0.41|        0.4|           58|\n",
            "|03/05/2019 08:46:14|      100|0.53|       0.35|           62|\n",
            "|03/05/2019 08:51:14|      100|0.51|        0.6|           45|\n",
            "|03/05/2019 08:56:14|      100|0.32|       0.37|           47|\n",
            "|03/05/2019 09:01:14|      100|0.62|       0.59|           60|\n",
            "|03/05/2019 09:06:14|      100|0.66|       0.72|           57|\n",
            "|03/05/2019 09:11:14|      100|0.54|       0.54|           44|\n",
            "|03/05/2019 09:16:14|      100|0.29|        0.4|           47|\n",
            "|03/05/2019 09:21:14|      100|0.43|       0.68|           66|\n",
            "|03/05/2019 09:26:14|      100|0.49|       0.66|           65|\n",
            "|03/05/2019 09:31:14|      100|0.64|       0.55|           66|\n",
            "|03/05/2019 09:36:14|      100|0.42|        0.6|           42|\n",
            "|03/05/2019 09:41:14|      100|0.55|       0.59|           63|\n",
            "+-------------------+---------+----+-----------+-------------+\n",
            "only showing top 20 rows\n",
            "\n"
          ]
        }
      ],
      "source": [
        "results.show()"
      ]
    },
    {
      "cell_type": "code",
      "execution_count": null,
      "metadata": {
        "id": "NNnkL2gEbW51",
        "colab": {
          "base_uri": "https://localhost:8080/"
        },
        "outputId": "883d12ec-6f56-4c22-a7c5-52e7518eb27e"
      },
      "outputs": [
        {
          "output_type": "execute_result",
          "data": {
            "text/plain": [
              "10000"
            ]
          },
          "metadata": {},
          "execution_count": 53
        }
      ],
      "source": [
        "# Подсчет строк\n",
        "results.count()"
      ]
    },
    {
      "cell_type": "code",
      "execution_count": null,
      "metadata": {
        "id": "03pT0X-cbZHM"
      },
      "outputs": [],
      "source": [
        "# Группировка server_id, session_count из данных vw_utilization, где session_count больше 50\n",
        "results = spark.sql('SELECT server_id, session_count \\\n",
        "                                FROM vw_utilization \\\n",
        "                                WHERE session_count > 50')"
      ]
    },
    {
      "cell_type": "code",
      "execution_count": null,
      "metadata": {
        "id": "kk6hKzZlbgBa",
        "colab": {
          "base_uri": "https://localhost:8080/"
        },
        "outputId": "b258d39a-ae95-4636-972d-bdc603d4087b"
      },
      "outputs": [
        {
          "output_type": "stream",
          "name": "stdout",
          "text": [
            "+---------+-------------+\n",
            "|server_id|session_count|\n",
            "+---------+-------------+\n",
            "|      100|           62|\n",
            "|      100|           58|\n",
            "|      100|           58|\n",
            "|      100|           62|\n",
            "|      100|           60|\n",
            "|      100|           57|\n",
            "|      100|           66|\n",
            "|      100|           65|\n",
            "|      100|           66|\n",
            "|      100|           63|\n",
            "|      100|           70|\n",
            "|      100|           63|\n",
            "|      100|           55|\n",
            "|      100|           59|\n",
            "|      100|           56|\n",
            "|      100|           52|\n",
            "|      100|           61|\n",
            "|      100|           59|\n",
            "|      100|           60|\n",
            "|      100|           57|\n",
            "+---------+-------------+\n",
            "only showing top 20 rows\n",
            "\n"
          ]
        }
      ],
      "source": [
        "results.show()"
      ]
    },
    {
      "cell_type": "markdown",
      "metadata": {
        "id": "OEloGQVXnVHg"
      },
      "source": [
        "**Агрегирование фреймов данных с помощью SQL**"
      ]
    },
    {
      "cell_type": "code",
      "execution_count": null,
      "metadata": {
        "id": "dn_ExPpAbsZM"
      },
      "outputs": [],
      "source": [
        "# Группировка и подсчет колонок из vw_utilization\n",
        "count = spark.sql('SELECT count(*) AS total_count FROM vw_utilization')"
      ]
    },
    {
      "cell_type": "code",
      "execution_count": null,
      "metadata": {
        "id": "YWGx0FrPbuPM",
        "colab": {
          "base_uri": "https://localhost:8080/"
        },
        "outputId": "aab6a710-6b92-4515-d111-7ddd6bcd0ab6"
      },
      "outputs": [
        {
          "output_type": "stream",
          "name": "stdout",
          "text": [
            "+-----------+\n",
            "|total_count|\n",
            "+-----------+\n",
            "|     500000|\n",
            "+-----------+\n",
            "\n"
          ]
        }
      ],
      "source": [
        "count.show()"
      ]
    },
    {
      "cell_type": "code",
      "execution_count": null,
      "metadata": {
        "id": "Q1TvBACObugA"
      },
      "outputs": [],
      "source": [
        "# Сгруппировать по  столбцу server_id из таблицы vw_utilization. Получить стобец total и количество таких записей с одинковыми значениями, назвать столбец server_id.\n",
        "results = spark.sql('SELECT server_id, COUNT(*) AS total \\\n",
        "                                FROM vw_utilization \\\n",
        "                                GROUP BY server_id')"
      ]
    },
    {
      "cell_type": "code",
      "execution_count": null,
      "metadata": {
        "id": "2cxC14aobwVC",
        "colab": {
          "base_uri": "https://localhost:8080/"
        },
        "outputId": "5ab4d76c-c734-447c-9c9b-eed7dc76c9cc"
      },
      "outputs": [
        {
          "output_type": "stream",
          "name": "stdout",
          "text": [
            "+---------+-----+\n",
            "|server_id|total|\n",
            "+---------+-----+\n",
            "|      108|10000|\n",
            "|      101|10000|\n",
            "|      115|10000|\n",
            "|      126|10000|\n",
            "|      103|10000|\n",
            "|      128|10000|\n",
            "|      122|10000|\n",
            "|      111|10000|\n",
            "|      120|10000|\n",
            "|      117|10000|\n",
            "|      112|10000|\n",
            "|      127|10000|\n",
            "|      107|10000|\n",
            "|      114|10000|\n",
            "|      100|10000|\n",
            "|      130|10000|\n",
            "|      129|10000|\n",
            "|      102|10000|\n",
            "|      113|10000|\n",
            "|      121|10000|\n",
            "+---------+-----+\n",
            "only showing top 20 rows\n",
            "\n"
          ]
        }
      ],
      "source": [
        "results.show()"
      ]
    },
    {
      "cell_type": "code",
      "execution_count": null,
      "metadata": {
        "id": "P7obbVPAbxvw"
      },
      "outputs": [],
      "source": [
        "# Сгруппировать по  столбцу server_id из таблицы vw_utilization. Получить стобец total и количество таких записей с одинковыми значениями, назвать столбец server_id.\n",
        "#  При этом условие, где столбец session_count больше 50 \n",
        "results = spark.sql('SELECT server_id, COUNT(*) AS total \\\n",
        "                                FROM vw_utilization \\\n",
        "                                WHERE session_count > 50 \\\n",
        "                                GROUP BY server_id')"
      ]
    },
    {
      "cell_type": "code",
      "execution_count": null,
      "metadata": {
        "id": "T7-7zwEebzhN",
        "colab": {
          "base_uri": "https://localhost:8080/"
        },
        "outputId": "57ac2b3c-ec0f-4e7a-87cf-105ac056999c"
      },
      "outputs": [
        {
          "output_type": "stream",
          "name": "stdout",
          "text": [
            "+---------+-----+\n",
            "|server_id|total|\n",
            "+---------+-----+\n",
            "|      108|10000|\n",
            "|      101|10000|\n",
            "|      115|10000|\n",
            "|      126|10000|\n",
            "|      103|10000|\n",
            "|      128| 9421|\n",
            "|      122|10000|\n",
            "|      111| 8740|\n",
            "|      120| 8561|\n",
            "|      117| 9364|\n",
            "|      112|10000|\n",
            "|      127|10000|\n",
            "|      107|10000|\n",
            "|      114| 7865|\n",
            "|      100| 6024|\n",
            "|      130| 8571|\n",
            "|      129| 8947|\n",
            "|      102|10000|\n",
            "|      113|10000|\n",
            "|      121|10000|\n",
            "+---------+-----+\n",
            "only showing top 20 rows\n",
            "\n"
          ]
        }
      ],
      "source": [
        "results.show()"
      ]
    },
    {
      "cell_type": "code",
      "execution_count": null,
      "metadata": {
        "id": "EHoKLDFqb03o"
      },
      "outputs": [],
      "source": [
        "# минимальное, максимальное количество сеансов для каждого идентификатора сервера\n",
        "results = spark.sql('SELECT server_id, min(session_count) AS min_session_count, max(session_count), avg(session_count) AS max_session_count \\\n",
        "                                FROM vw_utilization \\\n",
        "                                GROUP BY server_id')"
      ]
    },
    {
      "cell_type": "code",
      "execution_count": null,
      "metadata": {
        "id": "naAVKCfbb498",
        "colab": {
          "base_uri": "https://localhost:8080/"
        },
        "outputId": "0cb54d8f-435e-4138-c8d9-1e94b0d71d58"
      },
      "outputs": [
        {
          "output_type": "stream",
          "name": "stdout",
          "text": [
            "+---------+-----------------+------------------+-----------------+\n",
            "|server_id|min_session_count|max(session_count)|max_session_count|\n",
            "+---------+-----------------+------------------+-----------------+\n",
            "|      108|               65|               100|          82.2636|\n",
            "|      101|               70|               105|          87.3264|\n",
            "|      115|               54|                89|          71.4861|\n",
            "|      126|               58|                93|          75.2583|\n",
            "|      103|               66|               101|          83.5812|\n",
            "|      128|               48|                83|          65.9306|\n",
            "|      122|               53|                88|          70.1973|\n",
            "|      111|               46|                81|          63.6968|\n",
            "|      120|               45|                80|          62.7392|\n",
            "|      117|               48|                83|          65.6906|\n",
            "|      112|               62|                97|          79.0332|\n",
            "|      127|               57|                92|          73.9302|\n",
            "|      107|               55|                90|          72.6999|\n",
            "|      114|               43|                78|          60.5124|\n",
            "|      100|               37|                72|          54.3496|\n",
            "|      130|               45|                80|           63.061|\n",
            "|      129|               47|                82|          64.3885|\n",
            "|      102|               66|               101|          83.2236|\n",
            "|      113|               68|               103|          85.9406|\n",
            "|      121|               60|                95|          77.8007|\n",
            "+---------+-----------------+------------------+-----------------+\n",
            "only showing top 20 rows\n",
            "\n"
          ]
        }
      ],
      "source": [
        "results.show()"
      ]
    },
    {
      "cell_type": "code",
      "execution_count": null,
      "metadata": {
        "id": "Pnn9iq4vcv5t",
        "colab": {
          "base_uri": "https://localhost:8080/"
        },
        "outputId": "c5a94712-9c5a-4dac-e5cb-57c9fea3c8da"
      },
      "outputs": [
        {
          "output_type": "stream",
          "name": "stdout",
          "text": [
            "Downloading...\n",
            "From: https://drive.google.com/uc?id=1hGIJ-y_JCnnGayKKcvt8OobJPxtEQQwQ\n",
            "To: /content/server_name.csv\n",
            "\r  0% 0.00/772 [00:00<?, ?B/s]\r100% 772/772 [00:00<00:00, 1.46MB/s]\n"
          ]
        }
      ],
      "source": [
        "# Загрузка файла\n",
        "! gdown 1hGIJ-y_JCnnGayKKcvt8OobJPxtEQQwQ"
      ]
    },
    {
      "cell_type": "code",
      "execution_count": null,
      "metadata": {
        "id": "jOGHNQ2Hb5KE"
      },
      "outputs": [],
      "source": [
        "# Читаем файл в формате csv \n",
        "df_server = spark.read.format('csv').options(header=True).load('./server_name.csv')"
      ]
    },
    {
      "cell_type": "code",
      "execution_count": null,
      "metadata": {
        "id": "PccGKUxodAsD",
        "colab": {
          "base_uri": "https://localhost:8080/"
        },
        "outputId": "4d433037-2205-4b76-952c-5c7b02b7525b"
      },
      "outputs": [
        {
          "output_type": "stream",
          "name": "stdout",
          "text": [
            "+---------+-----------+\n",
            "|server_id|server_name|\n",
            "+---------+-----------+\n",
            "|      100| 100 Server|\n",
            "|      101| 101 Server|\n",
            "|      102| 102 Server|\n",
            "|      103| 103 Server|\n",
            "|      104| 104 Server|\n",
            "+---------+-----------+\n",
            "only showing top 5 rows\n",
            "\n"
          ]
        }
      ],
      "source": [
        "df_server.show(5)"
      ]
    },
    {
      "cell_type": "code",
      "execution_count": null,
      "metadata": {
        "id": "lBdeO41qdA_Z"
      },
      "outputs": [],
      "source": [
        "df_server.createOrReplaceTempView('vw_server')"
      ]
    },
    {
      "cell_type": "markdown",
      "metadata": {
        "id": "711j9vsJsdAW"
      },
      "source": [
        "**Уникальный идентификатор сервера**"
      ]
    },
    {
      "cell_type": "code",
      "execution_count": null,
      "metadata": {
        "id": "yLA5LCbSdClq"
      },
      "outputs": [],
      "source": [
        "# Группировка для возврата значение не равных NULL по столбцу server_id из таблицы vw_utilization и сортировка по возрастанию\n",
        "unique_server_id = spark.sql('SELECT DISTINCT(server_id) \\\n",
        "                              FROM vw_utilization \\\n",
        "                              ORDER BY server_id')"
      ]
    },
    {
      "cell_type": "code",
      "execution_count": null,
      "metadata": {
        "id": "ueLCwJQidD8C",
        "colab": {
          "base_uri": "https://localhost:8080/"
        },
        "outputId": "397969df-89a9-4447-bf79-a3bfef959aa3"
      },
      "outputs": [
        {
          "output_type": "stream",
          "name": "stdout",
          "text": [
            "+---------+\n",
            "|server_id|\n",
            "+---------+\n",
            "|      100|\n",
            "|      101|\n",
            "|      102|\n",
            "|      103|\n",
            "|      104|\n",
            "|      105|\n",
            "|      106|\n",
            "|      107|\n",
            "|      108|\n",
            "|      109|\n",
            "|      110|\n",
            "|      111|\n",
            "|      112|\n",
            "|      113|\n",
            "|      114|\n",
            "|      115|\n",
            "|      116|\n",
            "|      117|\n",
            "|      118|\n",
            "|      119|\n",
            "+---------+\n",
            "only showing top 20 rows\n",
            "\n"
          ]
        }
      ],
      "source": [
        "unique_server_id.show()"
      ]
    },
    {
      "cell_type": "code",
      "execution_count": null,
      "metadata": {
        "id": "JrytZrlQdFJw",
        "colab": {
          "base_uri": "https://localhost:8080/"
        },
        "outputId": "a6a9555c-cf3b-4960-f4e6-57e85be99310"
      },
      "outputs": [
        {
          "output_type": "execute_result",
          "data": {
            "text/plain": [
              "50"
            ]
          },
          "metadata": {},
          "execution_count": 70
        }
      ],
      "source": [
        "# Вывод количества уникальных\n",
        "unique_server_id.count()"
      ]
    },
    {
      "cell_type": "markdown",
      "metadata": {
        "id": "rc8gUAz_t0Fv"
      },
      "source": [
        "**Каковы минимальные и максимальные идентификаторы сервера**"
      ]
    },
    {
      "cell_type": "code",
      "execution_count": null,
      "metadata": {
        "id": "S062DVEzdHDx",
        "colab": {
          "base_uri": "https://localhost:8080/"
        },
        "outputId": "ce2ac885-f0b5-473a-f0df-d8bf10b2b4c2"
      },
      "outputs": [
        {
          "output_type": "stream",
          "name": "stdout",
          "text": [
            "+--------------+--------------+\n",
            "|min(server_id)|max(server_id)|\n",
            "+--------------+--------------+\n",
            "|           100|           149|\n",
            "+--------------+--------------+\n",
            "\n"
          ]
        }
      ],
      "source": [
        "# Сгруппировать по минимальному и максимальному значению по столбцу server_id из таблицы vw_utilization\n",
        "spark.sql('SELECT min(server_id), max(server_id) FROM vw_utilization').show()"
      ]
    },
    {
      "cell_type": "markdown",
      "metadata": {
        "id": "LCHtByxouyMS"
      },
      "source": [
        "**Объединение двух представлений**"
      ]
    },
    {
      "cell_type": "code",
      "execution_count": null,
      "metadata": {
        "id": "pAeWd_L2dIpA"
      },
      "outputs": [],
      "source": [
        "# Сгруппировать по столбцам u.server_id, sn.server_name, u.session_count и объединить по vw_server sn ON sn.server_id = u.server_id(берется всё из таблицы vw_utilization u)\n",
        "results = spark.sql('SELECT u.server_id, sn.server_name, u.session_count\\\n",
        "                FROM vw_utilization u \\\n",
        "                JOIN vw_server sn ON sn.server_id = u.server_id')"
      ]
    },
    {
      "cell_type": "code",
      "execution_count": null,
      "metadata": {
        "id": "wlM1wZ7hdKSp",
        "colab": {
          "base_uri": "https://localhost:8080/"
        },
        "outputId": "a457b014-ce7b-4fec-e464-47d78ea99f0c"
      },
      "outputs": [
        {
          "output_type": "stream",
          "name": "stdout",
          "text": [
            "+---------+-----------+-------------+\n",
            "|server_id|server_name|session_count|\n",
            "+---------+-----------+-------------+\n",
            "|      100| 100 Server|           47|\n",
            "|      100| 100 Server|           43|\n",
            "|      100| 100 Server|           62|\n",
            "|      100| 100 Server|           50|\n",
            "|      100| 100 Server|           43|\n",
            "|      100| 100 Server|           48|\n",
            "|      100| 100 Server|           58|\n",
            "|      100| 100 Server|           58|\n",
            "|      100| 100 Server|           62|\n",
            "|      100| 100 Server|           45|\n",
            "|      100| 100 Server|           47|\n",
            "|      100| 100 Server|           60|\n",
            "|      100| 100 Server|           57|\n",
            "|      100| 100 Server|           44|\n",
            "|      100| 100 Server|           47|\n",
            "|      100| 100 Server|           66|\n",
            "|      100| 100 Server|           65|\n",
            "|      100| 100 Server|           66|\n",
            "|      100| 100 Server|           42|\n",
            "|      100| 100 Server|           63|\n",
            "+---------+-----------+-------------+\n",
            "only showing top 20 rows\n",
            "\n"
          ]
        }
      ],
      "source": [
        "results.show()"
      ]
    },
    {
      "cell_type": "markdown",
      "metadata": {
        "id": "GM_rGLVyvha2"
      },
      "source": [
        "**Каковы имена максимальные и минимальные по столбцам server_id**"
      ]
    },
    {
      "cell_type": "code",
      "execution_count": null,
      "metadata": {
        "id": "afpNF809dLfY",
        "colab": {
          "base_uri": "https://localhost:8080/"
        },
        "outputId": "3daf04b0-8b82-485e-cdd3-b1be0fac575f"
      },
      "outputs": [
        {
          "output_type": "stream",
          "name": "stdout",
          "text": [
            "+-----------+---------+\n",
            "|server_name|server_id|\n",
            "+-----------+---------+\n",
            "| 100 Server|      100|\n",
            "+-----------+---------+\n",
            "\n"
          ]
        }
      ],
      "source": [
        "# Сгруппировать по столбцам sn.server_name, sn.server_id из таблицы vw_server sn, где группируем по минимальному значению столбца server_id из таблицы\n",
        "spark.sql('SELECT  sn.server_name, sn.server_id \\\n",
        "                FROM vw_server sn\\\n",
        "                WHERE sn.server_id = (SELECT min(server_id) FROM vw_utilization)').show()"
      ]
    },
    {
      "cell_type": "code",
      "execution_count": null,
      "metadata": {
        "colab": {
          "base_uri": "https://localhost:8080/"
        },
        "id": "trKLjJA_dNW2",
        "outputId": "828e03c2-db87-4c2b-dc93-dbf0260738ee"
      },
      "outputs": [
        {
          "output_type": "stream",
          "name": "stdout",
          "text": [
            "+-----------+---------+\n",
            "|server_name|server_id|\n",
            "+-----------+---------+\n",
            "| 149 Server|      149|\n",
            "+-----------+---------+\n",
            "\n"
          ]
        }
      ],
      "source": [
        "# Сгруппировать по столбцам sn.server_name, sn.server_id из таблицы vw_server sn, где группируем по максимальному значению столбца server_id из таблицы\n",
        "spark.sql('SELECT  sn.server_name, sn.server_id \\\n",
        "                FROM vw_server sn\\\n",
        "                WHERE sn.server_id = (SELECT max(server_id) FROM vw_utilization)').show()"
      ]
    },
    {
      "cell_type": "code",
      "execution_count": null,
      "metadata": {
        "colab": {
          "base_uri": "https://localhost:8080/"
        },
        "id": "hz7WVZYFdSMX",
        "outputId": "8373c70d-201b-4198-bd4f-be661b8887b3"
      },
      "outputs": [
        {
          "output_type": "stream",
          "name": "stdout",
          "text": [
            "+-----------+---------+\n",
            "|server_name|server_id|\n",
            "+-----------+---------+\n",
            "| 149 Server|      149|\n",
            "| 100 Server|      100|\n",
            "+-----------+---------+\n",
            "\n"
          ]
        }
      ],
      "source": [
        "# Мы группируем по условиям максимального  и минимального значения и объединеям две строки \n",
        "spark.sql('(SELECT  sn.server_name, sn.server_id \\\n",
        "                FROM vw_server sn\\\n",
        "                WHERE sn.server_id = (SELECT max(server_id) FROM vw_utilization))\\\n",
        "                UNION\\\n",
        "                (SELECT  sn.server_name, sn.server_id \\\n",
        "                FROM vw_server sn\\\n",
        "                WHERE sn.server_id = (SELECT min(server_id) FROM vw_utilization))').show()"
      ]
    },
    {
      "cell_type": "markdown",
      "metadata": {
        "id": "gpOpOzVpyJg3"
      },
      "source": [
        "**Удаление дублирования**"
      ]
    },
    {
      "cell_type": "code",
      "execution_count": null,
      "metadata": {
        "id": "wADbK7YNdve2"
      },
      "outputs": [],
      "source": [
        "# Импортируем из библиотеки SparkContext\n",
        "from pyspark import SparkContext"
      ]
    },
    {
      "cell_type": "code",
      "execution_count": null,
      "metadata": {
        "id": "TiXulyrndnjf"
      },
      "outputs": [],
      "source": [
        "# создание новой базы или будет брать существующую\n",
        "sc = SparkContext.getOrCreate()"
      ]
    },
    {
      "cell_type": "code",
      "execution_count": null,
      "metadata": {
        "id": "7MnV6Wt8djcb"
      },
      "outputs": [],
      "source": [
        "# Импорт из библиотек нужных функций\n",
        "from pyspark.sql import Row\n",
        "from pyspark.sql.functions import lit\n",
        "from pyspark.sql.types import StringType"
      ]
    },
    {
      "cell_type": "markdown",
      "metadata": {
        "id": "OVqA8VqTz_S7"
      },
      "source": [
        "**Вручную создаем Фрейм Данных**"
      ]
    },
    {
      "cell_type": "code",
      "execution_count": null,
      "metadata": {
        "id": "6GMgPxXUdUf_"
      },
      "outputs": [],
      "source": [
        "df_dup = sc.parallelize([Row(server_name='101 server', cpu_utilization=85, session_count=80),\\\n",
        "                                     Row(server_name='101 server', cpu_utilization=80, session_count=90),\\\n",
        "                                     Row(server_name='102 server', cpu_utilization=85, session_count=80),\\\n",
        "                                     Row(server_name='102 server', cpu_utilization=85, session_count=80)\n",
        "                                    ]).toDF()"
      ]
    },
    {
      "cell_type": "code",
      "execution_count": null,
      "metadata": {
        "colab": {
          "base_uri": "https://localhost:8080/"
        },
        "id": "O509yifUdhR9",
        "outputId": "b207d318-f492-4cff-d475-c8b5fb7ff03f"
      },
      "outputs": [
        {
          "output_type": "stream",
          "name": "stdout",
          "text": [
            "+-----------+---------------+-------------+\n",
            "|server_name|cpu_utilization|session_count|\n",
            "+-----------+---------------+-------------+\n",
            "| 101 server|             85|           80|\n",
            "| 101 server|             80|           90|\n",
            "| 102 server|             85|           80|\n",
            "| 102 server|             85|           80|\n",
            "+-----------+---------------+-------------+\n",
            "\n"
          ]
        }
      ],
      "source": [
        "# вывод созданных данных\n",
        "df_dup.show()"
      ]
    },
    {
      "cell_type": "code",
      "execution_count": null,
      "metadata": {
        "colab": {
          "base_uri": "https://localhost:8080/"
        },
        "id": "1-Eu0-xudy96",
        "outputId": "63f78c1a-d18a-4edd-e34f-31928c81218b"
      },
      "outputs": [
        {
          "output_type": "stream",
          "name": "stdout",
          "text": [
            "+-----------+---------------+-------------+\n",
            "|server_name|cpu_utilization|session_count|\n",
            "+-----------+---------------+-------------+\n",
            "| 101 server|             85|           80|\n",
            "| 101 server|             80|           90|\n",
            "| 102 server|             85|           80|\n",
            "+-----------+---------------+-------------+\n",
            "\n"
          ]
        }
      ],
      "source": [
        "# Убираем дубликаты\n",
        "df_dup.drop_duplicates().show()"
      ]
    },
    {
      "cell_type": "code",
      "execution_count": null,
      "metadata": {
        "colab": {
          "base_uri": "https://localhost:8080/"
        },
        "id": "F3ESR5VOd0hq",
        "outputId": "6f5e4449-9a13-492e-841e-fb4da19daaed"
      },
      "outputs": [
        {
          "output_type": "stream",
          "name": "stdout",
          "text": [
            "+-----------+---------------+-------------+\n",
            "|server_name|cpu_utilization|session_count|\n",
            "+-----------+---------------+-------------+\n",
            "| 101 server|             85|           80|\n",
            "| 102 server|             85|           80|\n",
            "+-----------+---------------+-------------+\n",
            "\n"
          ]
        }
      ],
      "source": [
        "# # удаление повторяющихся строк на основе столбца \"server_name\"\n",
        "df_dup.drop_duplicates(['server_name']).show()"
      ]
    },
    {
      "cell_type": "markdown",
      "metadata": {
        "id": "EFoxGhpw0ufs"
      },
      "source": [
        "**Работа с Null или NAs**"
      ]
    },
    {
      "cell_type": "code",
      "execution_count": null,
      "metadata": {
        "id": "Uwm-BIkld2FR"
      },
      "outputs": [],
      "source": [
        "spark = SparkSession.builder.getOrCreate()"
      ]
    },
    {
      "cell_type": "code",
      "execution_count": null,
      "metadata": {
        "id": "0piCyOoDeFNv"
      },
      "outputs": [],
      "source": [
        "# вручную создайте фрейм данных\n",
        "df = sc.parallelize([\n",
        "            Row(server_name='101 server', cpu_utilization=85, session_count=80),\\\n",
        "            Row(server_name='101 server', cpu_utilization=80, session_count=90),\\\n",
        "            Row(server_name='102 server', cpu_utilization=85, session_count=80),\\\n",
        "            Row(server_name='102 server', cpu_utilization=85, session_count=80)\n",
        "]).toDF()"
      ]
    },
    {
      "cell_type": "code",
      "execution_count": null,
      "metadata": {
        "colab": {
          "base_uri": "https://localhost:8080/"
        },
        "id": "ZSTaGHK5eFa_",
        "outputId": "e1daa9ae-bafa-49bc-d898-18c4760af436"
      },
      "outputs": [
        {
          "output_type": "stream",
          "name": "stdout",
          "text": [
            "+-----------+---------------+-------------+\n",
            "|server_name|cpu_utilization|session_count|\n",
            "+-----------+---------------+-------------+\n",
            "| 101 server|             85|           80|\n",
            "| 101 server|             80|           90|\n",
            "| 102 server|             85|           80|\n",
            "| 102 server|             85|           80|\n",
            "+-----------+---------------+-------------+\n",
            "\n"
          ]
        }
      ],
      "source": [
        "df.show()"
      ]
    },
    {
      "cell_type": "markdown",
      "metadata": {
        "id": "A8a67Wdj04Fy"
      },
      "source": [
        "**Создайте новый фрейм данных с одним дополнительным столбцом**"
      ]
    },
    {
      "cell_type": "code",
      "execution_count": null,
      "metadata": {
        "id": "gj_krUrbeG01"
      },
      "outputs": [],
      "source": [
        "# добавьте новый столбец в исходный фрейм данных\n",
        "# значение равно  None и приведено к типу строки\n",
        "df_na = df.withColumn('na_column', lit(None).cast(StringType()))"
      ]
    },
    {
      "cell_type": "code",
      "execution_count": null,
      "metadata": {
        "colab": {
          "base_uri": "https://localhost:8080/"
        },
        "id": "4vA29Qs6eIi2",
        "outputId": "ad102345-2467-4517-b81b-a3e6f24db513"
      },
      "outputs": [
        {
          "output_type": "stream",
          "name": "stdout",
          "text": [
            "+-----------+---------------+-------------+---------+\n",
            "|server_name|cpu_utilization|session_count|na_column|\n",
            "+-----------+---------------+-------------+---------+\n",
            "| 101 server|             85|           80|     null|\n",
            "| 101 server|             80|           90|     null|\n",
            "| 102 server|             85|           80|     null|\n",
            "| 102 server|             85|           80|     null|\n",
            "+-----------+---------------+-------------+---------+\n",
            "\n"
          ]
        }
      ],
      "source": [
        "df_na.show()"
      ]
    },
    {
      "cell_type": "markdown",
      "metadata": {
        "id": "NziXjWrV19rS"
      },
      "source": [
        "**Заполнение значения NA**"
      ]
    },
    {
      "cell_type": "code",
      "execution_count": null,
      "metadata": {
        "colab": {
          "base_uri": "https://localhost:8080/"
        },
        "id": "T6aol1JQeX1z",
        "outputId": "fa42222a-48ce-4656-b07f-edbb264c6459"
      },
      "outputs": [
        {
          "output_type": "stream",
          "name": "stdout",
          "text": [
            "+-----------+---------------+-------------+---------+\n",
            "|server_name|cpu_utilization|session_count|na_column|\n",
            "+-----------+---------------+-------------+---------+\n",
            "| 101 server|             85|           80|        A|\n",
            "| 101 server|             80|           90|        A|\n",
            "| 102 server|             85|           80|        A|\n",
            "| 102 server|             85|           80|        A|\n",
            "+-----------+---------------+-------------+---------+\n",
            "\n"
          ]
        }
      ],
      "source": [
        "# Заполнение значением А столбца NA\n",
        "df_na.fillna('A').show()"
      ]
    },
    {
      "cell_type": "markdown",
      "metadata": {
        "id": "GtzLRztu2PGk"
      },
      "source": [
        "**Создайте новый фрейм данных со значением NA и значением, отличным от NA**"
      ]
    },
    {
      "cell_type": "code",
      "execution_count": null,
      "metadata": {
        "id": "4huvO2AweZXC"
      },
      "outputs": [],
      "source": [
        "# Заполнение и объединение\n",
        "df2 = df_na.fillna('A').union(df_na)"
      ]
    },
    {
      "cell_type": "code",
      "execution_count": null,
      "metadata": {
        "colab": {
          "base_uri": "https://localhost:8080/"
        },
        "id": "78RMz6_Hegoy",
        "outputId": "3b5fc354-c8df-478d-c8f2-9bb8b61ede67"
      },
      "outputs": [
        {
          "output_type": "stream",
          "name": "stdout",
          "text": [
            "+-----------+---------------+-------------+---------+\n",
            "|server_name|cpu_utilization|session_count|na_column|\n",
            "+-----------+---------------+-------------+---------+\n",
            "| 101 server|             85|           80|        A|\n",
            "| 101 server|             80|           90|        A|\n",
            "| 102 server|             85|           80|        A|\n",
            "| 102 server|             85|           80|        A|\n",
            "| 101 server|             85|           80|     null|\n",
            "| 101 server|             80|           90|     null|\n",
            "| 102 server|             85|           80|     null|\n",
            "| 102 server|             85|           80|     null|\n",
            "+-----------+---------------+-------------+---------+\n",
            "\n"
          ]
        }
      ],
      "source": [
        "df2.show()"
      ]
    },
    {
      "cell_type": "code",
      "execution_count": null,
      "metadata": {
        "colab": {
          "base_uri": "https://localhost:8080/"
        },
        "id": "vC-WGCI7eh8K",
        "outputId": "f9f53f83-1d54-4dfe-91e0-841562da748c"
      },
      "outputs": [
        {
          "output_type": "stream",
          "name": "stdout",
          "text": [
            "+-----------+---------------+-------------+---------+\n",
            "|server_name|cpu_utilization|session_count|na_column|\n",
            "+-----------+---------------+-------------+---------+\n",
            "| 101 server|             85|           80|        A|\n",
            "| 101 server|             80|           90|        A|\n",
            "| 102 server|             85|           80|        A|\n",
            "| 102 server|             85|           80|        A|\n",
            "+-----------+---------------+-------------+---------+\n",
            "\n"
          ]
        }
      ],
      "source": [
        "# Удаление значений\n",
        "df2.na.drop().show()"
      ]
    },
    {
      "cell_type": "markdown",
      "metadata": {
        "id": "9uUXUde-268r"
      },
      "source": [
        "**Значения DropNA с использованием SQL**"
      ]
    },
    {
      "cell_type": "code",
      "execution_count": null,
      "metadata": {
        "id": "YLWMhIm3ejjB"
      },
      "outputs": [],
      "source": [
        "# Создание или заменить уже на готовое представление\n",
        "df2.createOrReplaceTempView('vw_na_table')"
      ]
    },
    {
      "cell_type": "code",
      "execution_count": null,
      "metadata": {
        "colab": {
          "base_uri": "https://localhost:8080/"
        },
        "id": "E-Ny8_heelH4",
        "outputId": "1f518a57-23a5-424f-c769-2dd5e9dae7c8"
      },
      "outputs": [
        {
          "output_type": "stream",
          "name": "stdout",
          "text": [
            "+-----------+---------------+-------------+---------+\n",
            "|server_name|cpu_utilization|session_count|na_column|\n",
            "+-----------+---------------+-------------+---------+\n",
            "| 101 server|             85|           80|        A|\n",
            "| 101 server|             80|           90|        A|\n",
            "| 102 server|             85|           80|        A|\n",
            "| 102 server|             85|           80|        A|\n",
            "| 101 server|             85|           80|     null|\n",
            "| 101 server|             80|           90|     null|\n",
            "| 102 server|             85|           80|     null|\n",
            "| 102 server|             85|           80|     null|\n",
            "+-----------+---------------+-------------+---------+\n",
            "\n"
          ]
        }
      ],
      "source": [
        "# Сгруппировать по таблице vw_na_table\n",
        "spark.sql('SELECT * FROM vw_na_table').show()"
      ]
    },
    {
      "cell_type": "code",
      "execution_count": null,
      "metadata": {
        "colab": {
          "base_uri": "https://localhost:8080/"
        },
        "id": "GSkBpDfyemV4",
        "outputId": "6d8c8c6c-71de-4ecc-a4d5-8754b0a8d91e"
      },
      "outputs": [
        {
          "output_type": "stream",
          "name": "stdout",
          "text": [
            "+-----------+---------------+-------------+---------+\n",
            "|server_name|cpu_utilization|session_count|na_column|\n",
            "+-----------+---------------+-------------+---------+\n",
            "| 101 server|             85|           80|        A|\n",
            "| 101 server|             80|           90|        A|\n",
            "| 102 server|             85|           80|        A|\n",
            "| 102 server|             85|           80|        A|\n",
            "+-----------+---------------+-------------+---------+\n",
            "\n"
          ]
        }
      ],
      "source": [
        "# Сгруппировать из таблицы vw_na_table, где по условию столбец na_column не имеет значение NULL\n",
        "spark.sql('SELECT * FROM vw_na_table\\\n",
        "               WHERE na_column IS NOT NULL \\\n",
        "              ').show()"
      ]
    },
    {
      "cell_type": "markdown",
      "metadata": {
        "id": "qJ-SznMc3-DC"
      },
      "source": [
        "**Исследовательский анализ данных с помощью Spark API**"
      ]
    },
    {
      "cell_type": "code",
      "execution_count": null,
      "metadata": {
        "id": "_AePidFcen-H",
        "colab": {
          "base_uri": "https://localhost:8080/"
        },
        "outputId": "0b061a1a-166d-428f-e885-1907a6e474b2"
      },
      "outputs": [
        {
          "output_type": "stream",
          "name": "stdout",
          "text": [
            "+-------+-------------------+------------------+-------------------+-------------------+------------------+\n",
            "|summary|     event_datetime|         server_id|                cpu|        free_memory|     session_count|\n",
            "+-------+-------------------+------------------+-------------------+-------------------+------------------+\n",
            "|  count|             500000|            500000|             500000|             500000|            500000|\n",
            "|   mean|               null|             124.5| 0.6205177399999797|0.37912809999999125|          69.59616|\n",
            "| stddev|               null|14.430884120552715|0.15875173872913106|0.15830931278376184|14.850676696352798|\n",
            "|    min|03/05/2019 08:06:14|               100|               0.22|                0.0|                32|\n",
            "|    max|04/09/2019 01:22:46|               149|                1.0|               0.78|               105|\n",
            "+-------+-------------------+------------------+-------------------+-------------------+------------------+\n",
            "\n"
          ]
        }
      ],
      "source": [
        "# Описаниеиспользуемых данных\n",
        "df_util.describe().show()"
      ]
    },
    {
      "cell_type": "markdown",
      "metadata": {
        "id": "7Gl20ffr4LTn"
      },
      "source": [
        "**Корреляция (взаимосвязь)**"
      ]
    },
    {
      "cell_type": "code",
      "execution_count": null,
      "metadata": {
        "id": "877j88_D2iUr",
        "colab": {
          "base_uri": "https://localhost:8080/"
        },
        "outputId": "67d624e9-17e2-41e5-f93e-8e8a5f3e6b1d"
      },
      "outputs": [
        {
          "output_type": "execute_result",
          "data": {
            "text/plain": [
              "-0.47047715730806805"
            ]
          },
          "metadata": {},
          "execution_count": 97
        }
      ],
      "source": [
        "# Статическая корреляция по столбцу free_memory\n",
        "df_util.stat.corr('cpu', 'free_memory')"
      ]
    },
    {
      "cell_type": "code",
      "execution_count": null,
      "metadata": {
        "id": "DON3P4Zw2t7x",
        "colab": {
          "base_uri": "https://localhost:8080/"
        },
        "outputId": "442ce70d-80f5-4252-f1f8-bf9c890abc03"
      },
      "outputs": [
        {
          "output_type": "execute_result",
          "data": {
            "text/plain": [
              "0.5026799454107653"
            ]
          },
          "metadata": {},
          "execution_count": 98
        }
      ],
      "source": [
        "# Статическая корреляция по столбцу session_count\n",
        "df_util.stat.corr('cpu', 'session_count')"
      ]
    },
    {
      "cell_type": "code",
      "execution_count": null,
      "metadata": {
        "id": "AEi-cj6_2zcL",
        "colab": {
          "base_uri": "https://localhost:8080/"
        },
        "outputId": "1c449546-6ea4-49ef-82ac-d0ed6fb1c0f6"
      },
      "outputs": [
        {
          "output_type": "execute_result",
          "data": {
            "text/plain": [
              "-0.5008320848876696"
            ]
          },
          "metadata": {},
          "execution_count": 99
        }
      ],
      "source": [
        "# Статическая корреляция по столбцам 'free_memory', 'session_count'\n",
        "df_util.stat.corr('free_memory', 'session_count')"
      ]
    },
    {
      "cell_type": "markdown",
      "metadata": {
        "id": "1aU_6jGy5VYv"
      },
      "source": [
        "**Наиболее часто встречающиеся Элементы или Ценности**"
      ]
    },
    {
      "cell_type": "code",
      "execution_count": null,
      "metadata": {
        "id": "JovFL9vs24Vg",
        "colab": {
          "base_uri": "https://localhost:8080/"
        },
        "outputId": "32a82fc1-8048-4a2f-b22b-ca47a6ab05f9"
      },
      "outputs": [
        {
          "output_type": "stream",
          "name": "stdout",
          "text": [
            "+--------------------+-----------------------+\n",
            "| server_id_freqItems|session_count_freqItems|\n",
            "+--------------------+-----------------------+\n",
            "|[137, 146, 101, 1...|   [92, 101, 83, 104...|\n",
            "+--------------------+-----------------------+\n",
            "\n"
          ]
        }
      ],
      "source": [
        "# Выведение подсчета частых используемых элементов\n",
        "df_util.stat.freqItems(['server_id', 'session_count']).show()"
      ]
    },
    {
      "cell_type": "markdown",
      "metadata": {
        "id": "QeVLGi7P5dz1"
      },
      "source": [
        "**Выборка**"
      ]
    },
    {
      "cell_type": "code",
      "execution_count": null,
      "metadata": {
        "id": "eeNVOMli27Dv"
      },
      "outputs": [],
      "source": [
        "# Отбоп по условиям\n",
        "sample_df = df_util.sample(withReplacement=False, fraction=0.2)"
      ]
    },
    {
      "cell_type": "code",
      "execution_count": null,
      "metadata": {
        "id": "H2CUKbXg2_L2",
        "colab": {
          "base_uri": "https://localhost:8080/"
        },
        "outputId": "afad3584-672c-49fa-e79f-81bb9c04f24b"
      },
      "outputs": [
        {
          "output_type": "execute_result",
          "data": {
            "text/plain": [
              "99837"
            ]
          },
          "metadata": {},
          "execution_count": 102
        }
      ],
      "source": [
        "# Вывод подсчета по отбору\n",
        "sample_df.count()"
      ]
    },
    {
      "cell_type": "markdown",
      "metadata": {
        "id": "B8St4DQe52x_"
      },
      "source": [
        "**Предварительный анализ данных с помощью Spark SQL**"
      ]
    },
    {
      "cell_type": "code",
      "execution_count": null,
      "metadata": {
        "id": "RYRUN_il3DE2"
      },
      "outputs": [],
      "source": [
        "# сначала создайте представление, чтобы позже мы могли выполнять SQL-запросы\n",
        "df_util.createOrReplaceTempView('vw_utilization')"
      ]
    },
    {
      "cell_type": "code",
      "execution_count": null,
      "metadata": {
        "id": "O1Rigu473IhW"
      },
      "outputs": [],
      "source": [
        "# Группировка по server_id, минимальному и максимальному cpu, stddev(cpu) из таблицы vw_utilization\n",
        "results = spark.sql('SELECT server_id, min(cpu), max(cpu), stddev(cpu)\\\n",
        "                              FROM vw_utilization\\\n",
        "                              GROUP BY server_id')"
      ]
    },
    {
      "cell_type": "code",
      "execution_count": null,
      "metadata": {
        "id": "n9-epxod3PLd",
        "colab": {
          "base_uri": "https://localhost:8080/"
        },
        "outputId": "2523a7d7-04e3-4633-e396-21122c1940ad"
      },
      "outputs": [
        {
          "output_type": "stream",
          "name": "stdout",
          "text": [
            "+---------+--------+--------+-------------------+\n",
            "|server_id|min(cpu)|max(cpu)|        stddev(cpu)|\n",
            "+---------+--------+--------+-------------------+\n",
            "|      108|    0.55|    0.95|0.11563100171171926|\n",
            "|      101|     0.6|     1.0|0.11651726263197697|\n",
            "|      115|    0.44|    0.84|0.11569664615014985|\n",
            "|      126|    0.48|    0.88|0.11542612970702051|\n",
            "|      103|    0.56|    0.96|0.11617507884178278|\n",
            "|      128|    0.38|    0.78| 0.1153254132405078|\n",
            "|      122|    0.43|    0.83|0.11563104329209034|\n",
            "|      111|    0.36|    0.76|0.11530221569464506|\n",
            "|      120|    0.35|    0.75|0.11586355920838642|\n",
            "|      117|    0.38|    0.78|0.11534593941519553|\n",
            "|      112|    0.52|    0.92|0.11528867845082576|\n",
            "|      127|    0.47|    0.87|0.11577746913037888|\n",
            "|      107|    0.45|    0.85|0.11597417369783877|\n",
            "|      114|    0.33|    0.73|0.11510268816097273|\n",
            "|      100|    0.27|    0.67| 0.1152264191787964|\n",
            "|      130|    0.35|    0.75|0.11568834774246008|\n",
            "|      129|    0.37|    0.77|0.11644328829064748|\n",
            "|      102|    0.56|    0.96|0.11549678751286807|\n",
            "|      113|    0.58|    0.98|0.11544345150353694|\n",
            "|      121|     0.5|     0.9|0.11441714332768797|\n",
            "+---------+--------+--------+-------------------+\n",
            "only showing top 20 rows\n",
            "\n"
          ]
        }
      ],
      "source": [
        "results.show()"
      ]
    },
    {
      "cell_type": "markdown",
      "metadata": {
        "id": "wTMXWV0o8LWL"
      },
      "source": [
        "**Мы хотим знать, сколько раз данные принадлежали конкретному сегменту.**"
      ]
    },
    {
      "cell_type": "code",
      "execution_count": null,
      "metadata": {
        "id": "qVREEQet3Re4",
        "colab": {
          "base_uri": "https://localhost:8080/"
        },
        "outputId": "97818d65-6328-46da-8f13-26735423b6d2"
      },
      "outputs": [
        {
          "output_type": "stream",
          "name": "stdout",
          "text": [
            "+---------+------+\n",
            "|server_id|bucket|\n",
            "+---------+------+\n",
            "|      100|     5|\n",
            "|      100|     4|\n",
            "|      100|     5|\n",
            "|      100|     5|\n",
            "|      100|     3|\n",
            "|      100|     4|\n",
            "|      100|     5|\n",
            "|      100|     4|\n",
            "|      100|     5|\n",
            "|      100|     5|\n",
            "|      100|     3|\n",
            "|      100|     6|\n",
            "|      100|     6|\n",
            "|      100|     5|\n",
            "|      100|     2|\n",
            "|      100|     4|\n",
            "|      100|     4|\n",
            "|      100|     6|\n",
            "|      100|     4|\n",
            "|      100|     5|\n",
            "+---------+------+\n",
            "only showing top 20 rows\n",
            "\n"
          ]
        }
      ],
      "source": [
        "# Группируем по столбцу server_id, где с помощью функции FLOOR, которая возвращает число равное числовому выражению, переименовываем столбец в bucket, и берем все из таблицы vw_utilization\n",
        "spark.sql('SELECT server_id, FLOOR(cpu * 100 / 10) AS bucket\\\n",
        "              FROM vw_utilization').show()"
      ]
    },
    {
      "cell_type": "code",
      "execution_count": null,
      "metadata": {
        "id": "vRl4V_9U3VMs"
      },
      "outputs": [],
      "source": [
        "# Группируем по столбцу server_id, где с помощью функции FLOOR, которая возвращает число равное числовому выражению, переименовываем столбец в bucket, , считаем по столбцу, который называем frequency. \n",
        "# Берем все из таблицы vw_utilization\n",
        "results = spark.sql('SELECT FLOOR(cpu * 100 / 10) AS bucket, COUNT(*) AS frequency \\\n",
        "              FROM vw_utilization \\\n",
        "              GROUP BY bucket \\\n",
        "              ORDER BY bucket \\\n",
        "              ')"
      ]
    },
    {
      "cell_type": "code",
      "execution_count": null,
      "metadata": {
        "id": "6alBucTg3Y_s",
        "colab": {
          "base_uri": "https://localhost:8080/"
        },
        "outputId": "733a44c7-c98e-44eb-f989-437a74574dc4"
      },
      "outputs": [
        {
          "output_type": "stream",
          "name": "stdout",
          "text": [
            "+------+---------+\n",
            "|bucket|frequency|\n",
            "+------+---------+\n",
            "|     2|     8186|\n",
            "|     3|    37029|\n",
            "|     4|    68046|\n",
            "|     5|   104910|\n",
            "|     6|   116725|\n",
            "|     7|    88242|\n",
            "|     8|    56598|\n",
            "|     9|    20207|\n",
            "|    10|       57|\n",
            "+------+---------+\n",
            "\n"
          ]
        }
      ],
      "source": [
        "results.show()"
      ]
    },
    {
      "cell_type": "markdown",
      "metadata": {
        "id": "GTkJSI6Q8P4x"
      },
      "source": [
        "**Визуализация данных**"
      ]
    },
    {
      "cell_type": "code",
      "execution_count": null,
      "metadata": {
        "id": "xTC0OpS43hmV"
      },
      "outputs": [],
      "source": [
        "# Перевод результатов в формат библиотеки Pandas\n",
        "pd_df = results.toPandas()"
      ]
    },
    {
      "cell_type": "code",
      "execution_count": null,
      "metadata": {
        "id": "fgh46Zy93kKs",
        "colab": {
          "base_uri": "https://localhost:8080/",
          "height": 206
        },
        "outputId": "256b4e7f-5cea-461c-f552-52ef6e834eae"
      },
      "outputs": [
        {
          "output_type": "execute_result",
          "data": {
            "text/plain": [
              "   bucket  frequency\n",
              "0       2       8186\n",
              "1       3      37029\n",
              "2       4      68046\n",
              "3       5     104910\n",
              "4       6     116725"
            ],
            "text/html": [
              "\n",
              "  <div id=\"df-b86bffa9-659d-4980-b576-26d08d13da42\">\n",
              "    <div class=\"colab-df-container\">\n",
              "      <div>\n",
              "<style scoped>\n",
              "    .dataframe tbody tr th:only-of-type {\n",
              "        vertical-align: middle;\n",
              "    }\n",
              "\n",
              "    .dataframe tbody tr th {\n",
              "        vertical-align: top;\n",
              "    }\n",
              "\n",
              "    .dataframe thead th {\n",
              "        text-align: right;\n",
              "    }\n",
              "</style>\n",
              "<table border=\"1\" class=\"dataframe\">\n",
              "  <thead>\n",
              "    <tr style=\"text-align: right;\">\n",
              "      <th></th>\n",
              "      <th>bucket</th>\n",
              "      <th>frequency</th>\n",
              "    </tr>\n",
              "  </thead>\n",
              "  <tbody>\n",
              "    <tr>\n",
              "      <th>0</th>\n",
              "      <td>2</td>\n",
              "      <td>8186</td>\n",
              "    </tr>\n",
              "    <tr>\n",
              "      <th>1</th>\n",
              "      <td>3</td>\n",
              "      <td>37029</td>\n",
              "    </tr>\n",
              "    <tr>\n",
              "      <th>2</th>\n",
              "      <td>4</td>\n",
              "      <td>68046</td>\n",
              "    </tr>\n",
              "    <tr>\n",
              "      <th>3</th>\n",
              "      <td>5</td>\n",
              "      <td>104910</td>\n",
              "    </tr>\n",
              "    <tr>\n",
              "      <th>4</th>\n",
              "      <td>6</td>\n",
              "      <td>116725</td>\n",
              "    </tr>\n",
              "  </tbody>\n",
              "</table>\n",
              "</div>\n",
              "      <button class=\"colab-df-convert\" onclick=\"convertToInteractive('df-b86bffa9-659d-4980-b576-26d08d13da42')\"\n",
              "              title=\"Convert this dataframe to an interactive table.\"\n",
              "              style=\"display:none;\">\n",
              "        \n",
              "  <svg xmlns=\"http://www.w3.org/2000/svg\" height=\"24px\"viewBox=\"0 0 24 24\"\n",
              "       width=\"24px\">\n",
              "    <path d=\"M0 0h24v24H0V0z\" fill=\"none\"/>\n",
              "    <path d=\"M18.56 5.44l.94 2.06.94-2.06 2.06-.94-2.06-.94-.94-2.06-.94 2.06-2.06.94zm-11 1L8.5 8.5l.94-2.06 2.06-.94-2.06-.94L8.5 2.5l-.94 2.06-2.06.94zm10 10l.94 2.06.94-2.06 2.06-.94-2.06-.94-.94-2.06-.94 2.06-2.06.94z\"/><path d=\"M17.41 7.96l-1.37-1.37c-.4-.4-.92-.59-1.43-.59-.52 0-1.04.2-1.43.59L10.3 9.45l-7.72 7.72c-.78.78-.78 2.05 0 2.83L4 21.41c.39.39.9.59 1.41.59.51 0 1.02-.2 1.41-.59l7.78-7.78 2.81-2.81c.8-.78.8-2.07 0-2.86zM5.41 20L4 18.59l7.72-7.72 1.47 1.35L5.41 20z\"/>\n",
              "  </svg>\n",
              "      </button>\n",
              "      \n",
              "  <style>\n",
              "    .colab-df-container {\n",
              "      display:flex;\n",
              "      flex-wrap:wrap;\n",
              "      gap: 12px;\n",
              "    }\n",
              "\n",
              "    .colab-df-convert {\n",
              "      background-color: #E8F0FE;\n",
              "      border: none;\n",
              "      border-radius: 50%;\n",
              "      cursor: pointer;\n",
              "      display: none;\n",
              "      fill: #1967D2;\n",
              "      height: 32px;\n",
              "      padding: 0 0 0 0;\n",
              "      width: 32px;\n",
              "    }\n",
              "\n",
              "    .colab-df-convert:hover {\n",
              "      background-color: #E2EBFA;\n",
              "      box-shadow: 0px 1px 2px rgba(60, 64, 67, 0.3), 0px 1px 3px 1px rgba(60, 64, 67, 0.15);\n",
              "      fill: #174EA6;\n",
              "    }\n",
              "\n",
              "    [theme=dark] .colab-df-convert {\n",
              "      background-color: #3B4455;\n",
              "      fill: #D2E3FC;\n",
              "    }\n",
              "\n",
              "    [theme=dark] .colab-df-convert:hover {\n",
              "      background-color: #434B5C;\n",
              "      box-shadow: 0px 1px 3px 1px rgba(0, 0, 0, 0.15);\n",
              "      filter: drop-shadow(0px 1px 2px rgba(0, 0, 0, 0.3));\n",
              "      fill: #FFFFFF;\n",
              "    }\n",
              "  </style>\n",
              "\n",
              "      <script>\n",
              "        const buttonEl =\n",
              "          document.querySelector('#df-b86bffa9-659d-4980-b576-26d08d13da42 button.colab-df-convert');\n",
              "        buttonEl.style.display =\n",
              "          google.colab.kernel.accessAllowed ? 'block' : 'none';\n",
              "\n",
              "        async function convertToInteractive(key) {\n",
              "          const element = document.querySelector('#df-b86bffa9-659d-4980-b576-26d08d13da42');\n",
              "          const dataTable =\n",
              "            await google.colab.kernel.invokeFunction('convertToInteractive',\n",
              "                                                     [key], {});\n",
              "          if (!dataTable) return;\n",
              "\n",
              "          const docLinkHtml = 'Like what you see? Visit the ' +\n",
              "            '<a target=\"_blank\" href=https://colab.research.google.com/notebooks/data_table.ipynb>data table notebook</a>'\n",
              "            + ' to learn more about interactive tables.';\n",
              "          element.innerHTML = '';\n",
              "          dataTable['output_type'] = 'display_data';\n",
              "          await google.colab.output.renderOutput(dataTable, element);\n",
              "          const docLink = document.createElement('div');\n",
              "          docLink.innerHTML = docLinkHtml;\n",
              "          element.appendChild(docLink);\n",
              "        }\n",
              "      </script>\n",
              "    </div>\n",
              "  </div>\n",
              "  "
            ]
          },
          "metadata": {},
          "execution_count": 110
        }
      ],
      "source": [
        "pd_df.head()"
      ]
    },
    {
      "cell_type": "code",
      "execution_count": null,
      "metadata": {
        "id": "jiKl91Or3mOe",
        "colab": {
          "base_uri": "https://localhost:8080/"
        },
        "outputId": "19daf5b2-e705-4f4f-ef21-ead706861406"
      },
      "outputs": [
        {
          "output_type": "execute_result",
          "data": {
            "text/plain": [
              "bucket       int64\n",
              "frequency    int64\n",
              "dtype: object"
            ]
          },
          "metadata": {},
          "execution_count": 111
        }
      ],
      "source": [
        "# типы данных\n",
        "pd_df.dtypes"
      ]
    },
    {
      "cell_type": "code",
      "execution_count": null,
      "metadata": {
        "id": "paNIlPNl3oVp"
      },
      "outputs": [],
      "source": [
        "# Перевод объекта к определенному типу данных\n",
        "pd_df['bucket'] = pd_df['bucket'].astype('category')"
      ]
    },
    {
      "cell_type": "code",
      "execution_count": null,
      "metadata": {
        "id": "LWMUuPjU3qTt"
      },
      "outputs": [],
      "source": [
        "# преобразованы в категорию и помечены как уже упорядоченные, чтобы их можно было проиндексировать\n",
        "pd_df['bucket'] = pd_df['bucket'].cat.as_ordered()"
      ]
    },
    {
      "cell_type": "code",
      "execution_count": null,
      "metadata": {
        "id": "n3mHYnPx3xTt"
      },
      "outputs": [],
      "source": [
        "# Импорт функции для построения графика\n",
        "import seaborn as sns"
      ]
    },
    {
      "cell_type": "code",
      "execution_count": null,
      "metadata": {
        "id": "KMDWHWY-3tac",
        "colab": {
          "base_uri": "https://localhost:8080/",
          "height": 279
        },
        "outputId": "e5e9531e-8c42-4bc8-adac-60bc616bece3"
      },
      "outputs": [
        {
          "output_type": "display_data",
          "data": {
            "text/plain": [
              "<Figure size 432x288 with 1 Axes>"
            ],
            "image/png": "[encoded data removed]"
          },
          "metadata": {
            "needs_background": "light"
          }
        }
      ],
      "source": [
        "# Построение гарфика\n",
        "sns.lineplot(x=pd_df['bucket'], y=pd_df['frequency']);"
      ]
    },
    {
      "cell_type": "markdown",
      "metadata": {
        "id": "ShcibqDO9uC1"
      },
      "source": [
        "**Анализ временных рядов**"
      ]
    },
    {
      "cell_type": "code",
      "execution_count": null,
      "metadata": {
        "id": "u6yFSfxx4MGk"
      },
      "outputs": [],
      "source": [
        "# сводная статистика\n",
        "results = spark.sql('SELECT server_id, min(cpu), max(cpu), stddev(cpu) \\\n",
        "                                FROM vw_utilization \\\n",
        "                                GROUP BY server_id')"
      ]
    },
    {
      "cell_type": "code",
      "execution_count": null,
      "metadata": {
        "id": "WDtvffSI4R-J",
        "colab": {
          "base_uri": "https://localhost:8080/"
        },
        "outputId": "28f1a089-93a7-4bbc-938c-3b62494596f1"
      },
      "outputs": [
        {
          "output_type": "stream",
          "name": "stdout",
          "text": [
            "+---------+--------+--------+-------------------+\n",
            "|server_id|min(cpu)|max(cpu)|        stddev(cpu)|\n",
            "+---------+--------+--------+-------------------+\n",
            "|      108|    0.55|    0.95|0.11563100171171926|\n",
            "|      101|     0.6|     1.0|0.11651726263197697|\n",
            "|      115|    0.44|    0.84|0.11569664615014985|\n",
            "|      126|    0.48|    0.88|0.11542612970702051|\n",
            "|      103|    0.56|    0.96|0.11617507884178278|\n",
            "|      128|    0.38|    0.78| 0.1153254132405078|\n",
            "|      122|    0.43|    0.83|0.11563104329209034|\n",
            "|      111|    0.36|    0.76|0.11530221569464506|\n",
            "|      120|    0.35|    0.75|0.11586355920838642|\n",
            "|      117|    0.38|    0.78|0.11534593941519553|\n",
            "+---------+--------+--------+-------------------+\n",
            "only showing top 10 rows\n",
            "\n"
          ]
        }
      ],
      "source": [
        "results.show(10)"
      ]
    },
    {
      "cell_type": "markdown",
      "metadata": {
        "id": "MYD6Ff5590a1"
      },
      "source": [
        "**Функция окна / Перегородка**"
      ]
    },
    {
      "cell_type": "code",
      "execution_count": null,
      "metadata": {
        "id": "VbfTUZDu4UeF"
      },
      "outputs": [],
      "source": [
        "# Следующее для средней загрузки процессора будет рассчитано для раздела server_id. по сути, это еще один уровень расчета среднего значения.\n",
        "results = spark.sql('SELECT event_datetime, server_id, cpu, \\\n",
        "                                avg(cpu) OVER (PARTITION BY server_id) AS avg_server_util \\\n",
        "                                FROM vw_utilization')"
      ]
    },
    {
      "cell_type": "code",
      "execution_count": null,
      "metadata": {
        "id": "QqWUHPBW4m6P",
        "colab": {
          "base_uri": "https://localhost:8080/"
        },
        "outputId": "601bedb5-7a9a-4a30-8803-ba18f9a6d219"
      },
      "outputs": [
        {
          "output_type": "stream",
          "name": "stdout",
          "text": [
            "+-------------------+---------+----+-----------------+\n",
            "|     event_datetime|server_id| cpu|  avg_server_util|\n",
            "+-------------------+---------+----+-----------------+\n",
            "|03/05/2019 08:06:14|      100|0.57|0.467506000000003|\n",
            "|03/05/2019 08:11:14|      100|0.47|0.467506000000003|\n",
            "|03/05/2019 08:16:14|      100|0.56|0.467506000000003|\n",
            "|03/05/2019 08:21:14|      100|0.57|0.467506000000003|\n",
            "|03/05/2019 08:26:14|      100|0.35|0.467506000000003|\n",
            "|03/05/2019 08:31:14|      100|0.41|0.467506000000003|\n",
            "|03/05/2019 08:36:14|      100|0.57|0.467506000000003|\n",
            "|03/05/2019 08:41:14|      100|0.41|0.467506000000003|\n",
            "|03/05/2019 08:46:14|      100|0.53|0.467506000000003|\n",
            "|03/05/2019 08:51:14|      100|0.51|0.467506000000003|\n",
            "|03/05/2019 08:56:14|      100|0.32|0.467506000000003|\n",
            "|03/05/2019 09:01:14|      100|0.62|0.467506000000003|\n",
            "|03/05/2019 09:06:14|      100|0.66|0.467506000000003|\n",
            "|03/05/2019 09:11:14|      100|0.54|0.467506000000003|\n",
            "|03/05/2019 09:16:14|      100|0.29|0.467506000000003|\n",
            "|03/05/2019 09:21:14|      100|0.43|0.467506000000003|\n",
            "|03/05/2019 09:26:14|      100|0.49|0.467506000000003|\n",
            "|03/05/2019 09:31:14|      100|0.64|0.467506000000003|\n",
            "|03/05/2019 09:36:14|      100|0.42|0.467506000000003|\n",
            "|03/05/2019 09:41:14|      100|0.55|0.467506000000003|\n",
            "+-------------------+---------+----+-----------------+\n",
            "only showing top 20 rows\n",
            "\n"
          ]
        }
      ],
      "source": [
        "results.show()"
      ]
    },
    {
      "cell_type": "code",
      "execution_count": null,
      "metadata": {
        "id": "BHiFxaUI4cMc"
      },
      "outputs": [],
      "source": [
        "# разница между средним использованием и каждым использованием\n",
        "results = spark.sql('SELECT event_datetime, server_id, cpu, \\\n",
        "                                avg(cpu) OVER (PARTITION BY server_id) AS avg_server_util, \\\n",
        "                                cpu - (avg(cpu) OVER (PARTITION BY server_id)) AS delta_server_util \\\n",
        "                                FROM vw_utilization')"
      ]
    },
    {
      "cell_type": "code",
      "execution_count": null,
      "metadata": {
        "id": "Ju13yF_x4rh2",
        "colab": {
          "base_uri": "https://localhost:8080/"
        },
        "outputId": "c5eeb874-0b2b-4640-820c-4f55ee99688d"
      },
      "outputs": [
        {
          "output_type": "stream",
          "name": "stdout",
          "text": [
            "+-------------------+---------+----+-----------------+--------------------+\n",
            "|     event_datetime|server_id| cpu|  avg_server_util|   delta_server_util|\n",
            "+-------------------+---------+----+-----------------+--------------------+\n",
            "|03/05/2019 08:06:14|      100|0.57|0.467506000000003| 0.10249399999999698|\n",
            "|03/05/2019 08:11:14|      100|0.47|0.467506000000003|0.002493999999996...|\n",
            "|03/05/2019 08:16:14|      100|0.56|0.467506000000003| 0.09249399999999708|\n",
            "|03/05/2019 08:21:14|      100|0.57|0.467506000000003| 0.10249399999999698|\n",
            "|03/05/2019 08:26:14|      100|0.35|0.467506000000003|  -0.117506000000003|\n",
            "|03/05/2019 08:31:14|      100|0.41|0.467506000000003|  -0.057506000000003|\n",
            "|03/05/2019 08:36:14|      100|0.57|0.467506000000003| 0.10249399999999698|\n",
            "|03/05/2019 08:41:14|      100|0.41|0.467506000000003|  -0.057506000000003|\n",
            "|03/05/2019 08:46:14|      100|0.53|0.467506000000003| 0.06249399999999705|\n",
            "|03/05/2019 08:51:14|      100|0.51|0.467506000000003|0.042493999999997034|\n",
            "|03/05/2019 08:56:14|      100|0.32|0.467506000000003|-0.14750600000000297|\n",
            "|03/05/2019 09:01:14|      100|0.62|0.467506000000003| 0.15249399999999702|\n",
            "|03/05/2019 09:06:14|      100|0.66|0.467506000000003| 0.19249399999999706|\n",
            "|03/05/2019 09:11:14|      100|0.54|0.467506000000003| 0.07249399999999706|\n",
            "|03/05/2019 09:16:14|      100|0.29|0.467506000000003|  -0.177506000000003|\n",
            "|03/05/2019 09:21:14|      100|0.43|0.467506000000003|-0.03750600000000298|\n",
            "|03/05/2019 09:26:14|      100|0.49|0.467506000000003|0.022493999999997016|\n",
            "|03/05/2019 09:31:14|      100|0.64|0.467506000000003| 0.17249399999999704|\n",
            "|03/05/2019 09:36:14|      100|0.42|0.467506000000003|-0.04750600000000299|\n",
            "|03/05/2019 09:41:14|      100|0.55|0.467506000000003| 0.08249399999999707|\n",
            "+-------------------+---------+----+-----------------+--------------------+\n",
            "only showing top 20 rows\n",
            "\n"
          ]
        }
      ],
      "source": [
        "results.show()"
      ]
    },
    {
      "cell_type": "code",
      "execution_count": null,
      "metadata": {
        "id": "wxye0eCy4ub1"
      },
      "outputs": [],
      "source": [
        "# вычисление среднего значения ближайших соседей (это может быть среднее значение последних 3 значений и среднее значение следующих 3 значений)\n",
        "results = spark.sql('SELECT event_datetime, server_id, cpu, \\\n",
        "                                avg(cpu) OVER (PARTITION BY server_id ORDER BY event_datetime \\\n",
        "                                ROWS BETWEEN 1 PRECEDING AND 1 FOLLOWING) AS avg_server_util \\\n",
        "                                FROM vw_utilization')"
      ]
    },
    {
      "cell_type": "code",
      "execution_count": null,
      "metadata": {
        "id": "ku5OGM1r4y2K",
        "colab": {
          "base_uri": "https://localhost:8080/"
        },
        "outputId": "0710cd07-2530-45ea-e047-f004ffa55795"
      },
      "outputs": [
        {
          "output_type": "stream",
          "name": "stdout",
          "text": [
            "+-------------------+---------+----+-------------------+\n",
            "|     event_datetime|server_id| cpu|    avg_server_util|\n",
            "+-------------------+---------+----+-------------------+\n",
            "|03/05/2019 08:06:14|      100|0.57|               0.52|\n",
            "|03/05/2019 08:11:14|      100|0.47| 0.5333333333333333|\n",
            "|03/05/2019 08:16:14|      100|0.56| 0.5333333333333333|\n",
            "|03/05/2019 08:21:14|      100|0.57|0.49333333333333335|\n",
            "|03/05/2019 08:26:14|      100|0.35| 0.4433333333333333|\n",
            "|03/05/2019 08:31:14|      100|0.41|0.44333333333333336|\n",
            "|03/05/2019 08:36:14|      100|0.57| 0.4633333333333333|\n",
            "|03/05/2019 08:41:14|      100|0.41| 0.5033333333333333|\n",
            "|03/05/2019 08:46:14|      100|0.53|0.48333333333333334|\n",
            "|03/05/2019 08:51:14|      100|0.51|0.45333333333333337|\n",
            "|03/05/2019 08:56:14|      100|0.32| 0.4833333333333334|\n",
            "|03/05/2019 09:01:14|      100|0.62| 0.5333333333333333|\n",
            "|03/05/2019 09:06:14|      100|0.66| 0.6066666666666667|\n",
            "|03/05/2019 09:11:14|      100|0.54|0.49666666666666676|\n",
            "|03/05/2019 09:16:14|      100|0.29|               0.42|\n",
            "|03/05/2019 09:21:14|      100|0.43| 0.4033333333333333|\n",
            "|03/05/2019 09:26:14|      100|0.49|               0.52|\n",
            "|03/05/2019 09:31:14|      100|0.64| 0.5166666666666666|\n",
            "|03/05/2019 09:36:14|      100|0.42| 0.5366666666666667|\n",
            "|03/05/2019 09:41:14|      100|0.55|               0.42|\n",
            "+-------------------+---------+----+-------------------+\n",
            "only showing top 20 rows\n",
            "\n"
          ]
        }
      ],
      "source": [
        "results.show()"
      ]
    },
    {
      "cell_type": "code",
      "execution_count": null,
      "metadata": {
        "id": "Dh1G1Faj5rXs"
      },
      "outputs": [],
      "source": [
        "# ИМпорт определенных функций из библиотек\n",
        "from pyspark.ml.linalg import Vectors\n",
        "from pyspark.ml.feature import VectorAssembler\n",
        "from pyspark.ml.clustering import KMeans"
      ]
    },
    {
      "cell_type": "markdown",
      "metadata": {
        "id": "gku7umDS-a0t"
      },
      "source": [
        "**Векторизация объектов, преобразование с помощью VectorAssembler**"
      ]
    },
    {
      "cell_type": "code",
      "execution_count": null,
      "metadata": {
        "id": "tKkLO3Wr5nAe"
      },
      "outputs": [],
      "source": [
        "# Векторизация объектов по определенным столбцам\n",
        "vector_assembler = VectorAssembler(inputCols=['cpu', 'free_memory', 'session_count'], outputCol='features')"
      ]
    },
    {
      "cell_type": "code",
      "execution_count": null,
      "metadata": {
        "id": "476ItU-U5vu6"
      },
      "outputs": [],
      "source": [
        "# преобразование путем передачи исходного фрейма данных\n",
        "vcluster_df = vector_assembler.transform(df_util)"
      ]
    },
    {
      "cell_type": "code",
      "execution_count": null,
      "metadata": {
        "id": "IblDkxQJ5_OF",
        "colab": {
          "base_uri": "https://localhost:8080/"
        },
        "outputId": "b4c0c895-5307-41ff-941c-b9ddf19de130"
      },
      "outputs": [
        {
          "output_type": "stream",
          "name": "stdout",
          "text": [
            "+-------------------+---------+----+-----------+-------------+----------------+\n",
            "|     event_datetime|server_id| cpu|free_memory|session_count|        features|\n",
            "+-------------------+---------+----+-----------+-------------+----------------+\n",
            "|03/05/2019 08:06:14|      100|0.57|       0.51|           47|[0.57,0.51,47.0]|\n",
            "|03/05/2019 08:11:14|      100|0.47|       0.62|           43|[0.47,0.62,43.0]|\n",
            "|03/05/2019 08:16:14|      100|0.56|       0.57|           62|[0.56,0.57,62.0]|\n",
            "|03/05/2019 08:21:14|      100|0.57|       0.56|           50|[0.57,0.56,50.0]|\n",
            "|03/05/2019 08:26:14|      100|0.35|       0.46|           43|[0.35,0.46,43.0]|\n",
            "+-------------------+---------+----+-----------+-------------+----------------+\n",
            "only showing top 5 rows\n",
            "\n"
          ]
        }
      ],
      "source": [
        "vcluster_df.show(5)"
      ]
    },
    {
      "cell_type": "markdown",
      "metadata": {
        "id": "TqBXQ-SN-8SF"
      },
      "source": [
        "**Создание модели**"
      ]
    },
    {
      "cell_type": "code",
      "execution_count": null,
      "metadata": {
        "id": "Z_Y6fgCt6B-I"
      },
      "outputs": [],
      "source": [
        "kmeans = KMeans().setK(3)   # установите кластеры равными 3\n",
        "kmeans = kmeans.setSeed(1)  # установите случайное начальное значение равным 1"
      ]
    },
    {
      "cell_type": "code",
      "execution_count": null,
      "metadata": {
        "id": "Ds_bl4406EY3"
      },
      "outputs": [],
      "source": [
        "k_model = kmeans.fit(vcluster_df)  #подгонка модели с преобразованным df"
      ]
    },
    {
      "cell_type": "code",
      "execution_count": null,
      "metadata": {
        "colab": {
          "base_uri": "https://localhost:8080/"
        },
        "id": "JCVaPkBJ6ESN",
        "outputId": "c5ffb748-9e47-4d52-a3cb-1b38babbc006"
      },
      "outputs": [
        {
          "output_type": "execute_result",
          "data": {
            "text/plain": [
              "[array([ 0.62611189,  0.37364406, 70.02259966]),\n",
              " array([ 0.5172013 ,  0.48158347, 51.14110018]),\n",
              " array([ 0.71931575,  0.28104316, 88.23965784])]"
            ]
          },
          "metadata": {},
          "execution_count": 130
        }
      ],
      "source": [
        "k_model.clusterCenters()         # получить центр кластеров"
      ]
    },
    {
      "cell_type": "markdown",
      "metadata": {
        "id": "U7KBUKhW_SZN"
      },
      "source": [
        "**Векторизация объектов, преобразование с помощью VectorAssembler**"
      ]
    },
    {
      "cell_type": "code",
      "execution_count": null,
      "metadata": {
        "id": "q_NIGnyr6OFh"
      },
      "outputs": [],
      "source": [
        "# Векторизация по параметрам\n",
        "vector_assembler = VectorAssembler(inputCols=['cpu'], outputCol='features')"
      ]
    },
    {
      "cell_type": "code",
      "execution_count": null,
      "metadata": {
        "id": "Ig1yWbzF6aMH"
      },
      "outputs": [],
      "source": [
        "# преобразование путем передачи исходного фрейма данных\n",
        "df_vutil = vector_assembler.transform(df_util)"
      ]
    },
    {
      "cell_type": "code",
      "execution_count": null,
      "metadata": {
        "colab": {
          "base_uri": "https://localhost:8080/"
        },
        "id": "MIBgoQJf6dWw",
        "outputId": "58929c90-ea8e-4976-da40-bd54dad92587"
      },
      "outputs": [
        {
          "output_type": "stream",
          "name": "stdout",
          "text": [
            "+-------------------+---------+----+-----------+-------------+--------+\n",
            "|     event_datetime|server_id| cpu|free_memory|session_count|features|\n",
            "+-------------------+---------+----+-----------+-------------+--------+\n",
            "|03/05/2019 08:06:14|      100|0.57|       0.51|           47|  [0.57]|\n",
            "|03/05/2019 08:11:14|      100|0.47|       0.62|           43|  [0.47]|\n",
            "|03/05/2019 08:16:14|      100|0.56|       0.57|           62|  [0.56]|\n",
            "|03/05/2019 08:21:14|      100|0.57|       0.56|           50|  [0.57]|\n",
            "|03/05/2019 08:26:14|      100|0.35|       0.46|           43|  [0.35]|\n",
            "+-------------------+---------+----+-----------+-------------+--------+\n",
            "only showing top 5 rows\n",
            "\n"
          ]
        }
      ],
      "source": [
        "df_vutil.show(5)"
      ]
    },
    {
      "cell_type": "markdown",
      "metadata": {
        "id": "c9wZ81nk_wna"
      },
      "source": [
        "**Создание и прогнозирование моделей**"
      ]
    },
    {
      "cell_type": "code",
      "execution_count": null,
      "metadata": {
        "id": "7afJCBZz6i8n"
      },
      "outputs": [],
      "source": [
        "from pyspark.ml.regression import LinearRegression"
      ]
    },
    {
      "cell_type": "code",
      "execution_count": null,
      "metadata": {
        "id": "q1VmdKp66f00"
      },
      "outputs": [],
      "source": [
        "# Использование линейной регрессии\n",
        "linear_regression = LinearRegression(featuresCol='features', labelCol='session_count')"
      ]
    },
    {
      "cell_type": "code",
      "execution_count": null,
      "metadata": {
        "id": "oGWtpgA56m6i"
      },
      "outputs": [],
      "source": [
        "lr_model = linear_regression.fit(df_vutil)"
      ]
    },
    {
      "cell_type": "markdown",
      "metadata": {
        "id": "gSakzsBZADYI"
      },
      "source": [
        "**Коэффициент и Y-перехват**"
      ]
    },
    {
      "cell_type": "code",
      "execution_count": null,
      "metadata": {
        "id": "Picmn1e76o8A",
        "colab": {
          "base_uri": "https://localhost:8080/"
        },
        "outputId": "5560ace9-3e67-4e87-ef7f-5ab68705a69f"
      },
      "outputs": [
        {
          "output_type": "execute_result",
          "data": {
            "text/plain": [
              "DenseVector([47.024])"
            ]
          },
          "metadata": {},
          "execution_count": 137
        }
      ],
      "source": [
        "# Вывод коэффициентов\n",
        "lr_model.coefficients"
      ]
    },
    {
      "cell_type": "code",
      "execution_count": null,
      "metadata": {
        "id": "ZjmePyZw6q7H",
        "colab": {
          "base_uri": "https://localhost:8080/"
        },
        "outputId": "3f8cc62a-522a-4cee-9ddf-14a8958cbe65"
      },
      "outputs": [
        {
          "output_type": "execute_result",
          "data": {
            "text/plain": [
              "40.416951035516405"
            ]
          },
          "metadata": {},
          "execution_count": 138
        }
      ],
      "source": [
        "# Вывод константы\n",
        "lr_model.intercept"
      ]
    },
    {
      "cell_type": "markdown",
      "metadata": {
        "id": "rk4CrbQWAH0T"
      },
      "source": [
        "**Проверка RMSE**"
      ]
    },
    {
      "cell_type": "code",
      "execution_count": null,
      "metadata": {
        "id": "xyplsi696s0N",
        "colab": {
          "base_uri": "https://localhost:8080/"
        },
        "outputId": "e66ea0a2-cc89-4e0c-fde0-e41905f8074f"
      },
      "outputs": [
        {
          "output_type": "execute_result",
          "data": {
            "text/plain": [
              "12.837990225931378"
            ]
          },
          "metadata": {},
          "execution_count": 139
        }
      ],
      "source": [
        "# Вывод суммарной среднеквадратичная ошибка\n",
        "lr_model.summary.rootMeanSquaredError"
      ]
    }
  ],
  "metadata": {
    "colab": {
      "collapsed_sections": [],
      "name": "SQL ",
      "provenance": []
    },
    "kernelspec": {
      "display_name": "Python 3",
      "name": "python3"
    },
    "language_info": {
      "name": "python"
    }
  },
  "nbformat": 4,
  "nbformat_minor": 0
}